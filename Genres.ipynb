{
 "cells": [
  {
   "cell_type": "markdown",
   "metadata": {},
   "source": [
    "# faire un code qui permet d'obtenir la description du genre à partir de son identifiant (possibilité de voir les associations entre descriptions et identifiants directement sur la bdd)"
   ]
  },
  {
   "cell_type": "code",
   "execution_count": 1,
   "metadata": {},
   "outputs": [],
   "source": [
    "import pandas as pd\n",
    "import matplotlib.pyplot as plt"
   ]
  },
  {
   "cell_type": "code",
   "execution_count": 2,
   "metadata": {},
   "outputs": [
    {
     "data": {
      "text/html": [
       "<div>\n",
       "<style scoped>\n",
       "    .dataframe tbody tr th:only-of-type {\n",
       "        vertical-align: middle;\n",
       "    }\n",
       "\n",
       "    .dataframe tbody tr th {\n",
       "        vertical-align: top;\n",
       "    }\n",
       "\n",
       "    .dataframe thead th {\n",
       "        text-align: right;\n",
       "    }\n",
       "</style>\n",
       "<table border=\"1\" class=\"dataframe\">\n",
       "  <thead>\n",
       "    <tr style=\"text-align: right;\">\n",
       "      <th></th>\n",
       "      <th>id</th>\n",
       "      <th>description</th>\n",
       "    </tr>\n",
       "  </thead>\n",
       "  <tbody>\n",
       "    <tr>\n",
       "      <th>0</th>\n",
       "      <td>13</td>\n",
       "      <td>Parodie</td>\n",
       "    </tr>\n",
       "    <tr>\n",
       "      <th>1</th>\n",
       "      <td>12</td>\n",
       "      <td>Ballet pantomime</td>\n",
       "    </tr>\n",
       "    <tr>\n",
       "      <th>2</th>\n",
       "      <td>11</td>\n",
       "      <td>Opéra-comique</td>\n",
       "    </tr>\n",
       "    <tr>\n",
       "      <th>3</th>\n",
       "      <td>10</td>\n",
       "      <td>Feux d'artifice</td>\n",
       "    </tr>\n",
       "    <tr>\n",
       "      <th>4</th>\n",
       "      <td>9</td>\n",
       "      <td>Tragédie</td>\n",
       "    </tr>\n",
       "    <tr>\n",
       "      <th>5</th>\n",
       "      <td>8</td>\n",
       "      <td>Tragi-comédie</td>\n",
       "    </tr>\n",
       "    <tr>\n",
       "      <th>6</th>\n",
       "      <td>7</td>\n",
       "      <td>Comédie à l'impromptu</td>\n",
       "    </tr>\n",
       "    <tr>\n",
       "      <th>7</th>\n",
       "      <td>6</td>\n",
       "      <td>Comédie</td>\n",
       "    </tr>\n",
       "    <tr>\n",
       "      <th>8</th>\n",
       "      <td>5</td>\n",
       "      <td>Divertissement</td>\n",
       "    </tr>\n",
       "    <tr>\n",
       "      <th>9</th>\n",
       "      <td>4</td>\n",
       "      <td>Ballet</td>\n",
       "    </tr>\n",
       "    <tr>\n",
       "      <th>10</th>\n",
       "      <td>3</td>\n",
       "      <td>Prologue</td>\n",
       "    </tr>\n",
       "  </tbody>\n",
       "</table>\n",
       "</div>"
      ],
      "text/plain": [
       "    id            description\n",
       "0   13                Parodie\n",
       "1   12       Ballet pantomime\n",
       "2   11          Opéra-comique\n",
       "3   10        Feux d'artifice\n",
       "4    9               Tragédie\n",
       "5    8          Tragi-comédie\n",
       "6    7  Comédie à l'impromptu\n",
       "7    6                Comédie\n",
       "8    5         Divertissement\n",
       "9    4                 Ballet\n",
       "10   3               Prologue"
      ]
     },
     "execution_count": 2,
     "metadata": {},
     "output_type": "execute_result"
    }
   ],
   "source": [
    "# On lit le fichier CSV des genres et on affiche le dataframe pour voir les associations entre les descriptions et les id\n",
    "df_genre_init = pd.read_csv(\"PlayGenre-2024-06-14.csv\", delimiter=',', engine=\"python\", encoding='utf-8', header=0)\n",
    "df_genre_init"
   ]
  },
  {
   "cell_type": "markdown",
   "metadata": {},
   "source": [
    "# On merge les dataframes soirées, représentations et pièces"
   ]
  },
  {
   "cell_type": "code",
   "execution_count": 3,
   "metadata": {},
   "outputs": [
    {
     "data": {
      "text/html": [
       "<div>\n",
       "<style scoped>\n",
       "    .dataframe tbody tr th:only-of-type {\n",
       "        vertical-align: middle;\n",
       "    }\n",
       "\n",
       "    .dataframe tbody tr th {\n",
       "        vertical-align: top;\n",
       "    }\n",
       "\n",
       "    .dataframe thead th {\n",
       "        text-align: right;\n",
       "    }\n",
       "</style>\n",
       "<table border=\"1\" class=\"dataframe\">\n",
       "  <thead>\n",
       "    <tr style=\"text-align: right;\">\n",
       "      <th></th>\n",
       "      <th>id</th>\n",
       "      <th>note</th>\n",
       "      <th>location</th>\n",
       "      <th>date</th>\n",
       "    </tr>\n",
       "  </thead>\n",
       "  <tbody>\n",
       "    <tr>\n",
       "      <th>0</th>\n",
       "      <td>28188</td>\n",
       "      <td>NaN</td>\n",
       "      <td>3</td>\n",
       "      <td>1761-11-04</td>\n",
       "    </tr>\n",
       "    <tr>\n",
       "      <th>1</th>\n",
       "      <td>28187</td>\n",
       "      <td>NaN</td>\n",
       "      <td>3</td>\n",
       "      <td>1756-12-07</td>\n",
       "    </tr>\n",
       "    <tr>\n",
       "      <th>2</th>\n",
       "      <td>28186</td>\n",
       "      <td>NaN</td>\n",
       "      <td>3</td>\n",
       "      <td>1736-10-27</td>\n",
       "    </tr>\n",
       "    <tr>\n",
       "      <th>3</th>\n",
       "      <td>28185</td>\n",
       "      <td>NaN</td>\n",
       "      <td>3</td>\n",
       "      <td>1736-10-20</td>\n",
       "    </tr>\n",
       "    <tr>\n",
       "      <th>4</th>\n",
       "      <td>28184</td>\n",
       "      <td>NaN</td>\n",
       "      <td>3</td>\n",
       "      <td>1736-10-13</td>\n",
       "    </tr>\n",
       "    <tr>\n",
       "      <th>...</th>\n",
       "      <td>...</td>\n",
       "      <td>...</td>\n",
       "      <td>...</td>\n",
       "      <td>...</td>\n",
       "    </tr>\n",
       "    <tr>\n",
       "      <th>28017</th>\n",
       "      <td>5</td>\n",
       "      <td>NaN</td>\n",
       "      <td>1</td>\n",
       "      <td>1723-01-05</td>\n",
       "    </tr>\n",
       "    <tr>\n",
       "      <th>28018</th>\n",
       "      <td>4</td>\n",
       "      <td>NaN</td>\n",
       "      <td>1</td>\n",
       "      <td>1723-01-04</td>\n",
       "    </tr>\n",
       "    <tr>\n",
       "      <th>28019</th>\n",
       "      <td>3</td>\n",
       "      <td>NaN</td>\n",
       "      <td>1</td>\n",
       "      <td>1723-01-03</td>\n",
       "    </tr>\n",
       "    <tr>\n",
       "      <th>28020</th>\n",
       "      <td>2</td>\n",
       "      <td>NaN</td>\n",
       "      <td>1</td>\n",
       "      <td>1723-01-02</td>\n",
       "    </tr>\n",
       "    <tr>\n",
       "      <th>28021</th>\n",
       "      <td>1</td>\n",
       "      <td>NaN</td>\n",
       "      <td>1</td>\n",
       "      <td>1723-01-01</td>\n",
       "    </tr>\n",
       "  </tbody>\n",
       "</table>\n",
       "<p>28022 rows × 4 columns</p>\n",
       "</div>"
      ],
      "text/plain": [
       "          id note  location        date\n",
       "0      28188  NaN         3  1761-11-04\n",
       "1      28187  NaN         3  1756-12-07\n",
       "2      28186  NaN         3  1736-10-27\n",
       "3      28185  NaN         3  1736-10-20\n",
       "4      28184  NaN         3  1736-10-13\n",
       "...      ...  ...       ...         ...\n",
       "28017      5  NaN         1  1723-01-05\n",
       "28018      4  NaN         1  1723-01-04\n",
       "28019      3  NaN         1  1723-01-03\n",
       "28020      2  NaN         1  1723-01-02\n",
       "28021      1  NaN         1  1723-01-01\n",
       "\n",
       "[28022 rows x 4 columns]"
      ]
     },
     "execution_count": 3,
     "metadata": {},
     "output_type": "execute_result"
    }
   ],
   "source": [
    "# On lit le fichier CSV des soirées et on affiche le dataframe \n",
    "df_soirée = pd.read_csv(\"Event-2024-06-14.csv\", delimiter=',', engine=\"python\", encoding='utf-8', header=0)\n",
    "df_soirée"
   ]
  },
  {
   "cell_type": "code",
   "execution_count": 4,
   "metadata": {},
   "outputs": [
    {
     "data": {
      "text/html": [
       "<div>\n",
       "<style scoped>\n",
       "    .dataframe tbody tr th:only-of-type {\n",
       "        vertical-align: middle;\n",
       "    }\n",
       "\n",
       "    .dataframe tbody tr th {\n",
       "        vertical-align: top;\n",
       "    }\n",
       "\n",
       "    .dataframe thead th {\n",
       "        text-align: right;\n",
       "    }\n",
       "</style>\n",
       "<table border=\"1\" class=\"dataframe\">\n",
       "  <thead>\n",
       "    <tr style=\"text-align: right;\">\n",
       "      <th></th>\n",
       "      <th>id</th>\n",
       "      <th>note</th>\n",
       "      <th>play</th>\n",
       "      <th>event</th>\n",
       "      <th>representation_order</th>\n",
       "    </tr>\n",
       "  </thead>\n",
       "  <tbody>\n",
       "    <tr>\n",
       "      <th>0</th>\n",
       "      <td>16211</td>\n",
       "      <td>NaN</td>\n",
       "      <td>33</td>\n",
       "      <td>8552</td>\n",
       "      <td>4.0</td>\n",
       "    </tr>\n",
       "    <tr>\n",
       "      <th>1</th>\n",
       "      <td>16210</td>\n",
       "      <td>NaN</td>\n",
       "      <td>1004</td>\n",
       "      <td>8551</td>\n",
       "      <td>3.0</td>\n",
       "    </tr>\n",
       "    <tr>\n",
       "      <th>2</th>\n",
       "      <td>16209</td>\n",
       "      <td>NaN</td>\n",
       "      <td>551</td>\n",
       "      <td>8551</td>\n",
       "      <td>2.0</td>\n",
       "    </tr>\n",
       "    <tr>\n",
       "      <th>3</th>\n",
       "      <td>16208</td>\n",
       "      <td>NaN</td>\n",
       "      <td>315</td>\n",
       "      <td>8551</td>\n",
       "      <td>1.0</td>\n",
       "    </tr>\n",
       "    <tr>\n",
       "      <th>4</th>\n",
       "      <td>16207</td>\n",
       "      <td>NaN</td>\n",
       "      <td>662</td>\n",
       "      <td>8549</td>\n",
       "      <td>3.0</td>\n",
       "    </tr>\n",
       "    <tr>\n",
       "      <th>...</th>\n",
       "      <td>...</td>\n",
       "      <td>...</td>\n",
       "      <td>...</td>\n",
       "      <td>...</td>\n",
       "      <td>...</td>\n",
       "    </tr>\n",
       "    <tr>\n",
       "      <th>16014</th>\n",
       "      <td>7</td>\n",
       "      <td>NaN</td>\n",
       "      <td>40</td>\n",
       "      <td>10010</td>\n",
       "      <td>NaN</td>\n",
       "    </tr>\n",
       "    <tr>\n",
       "      <th>16015</th>\n",
       "      <td>6</td>\n",
       "      <td>NaN</td>\n",
       "      <td>31</td>\n",
       "      <td>10008</td>\n",
       "      <td>NaN</td>\n",
       "    </tr>\n",
       "    <tr>\n",
       "      <th>16016</th>\n",
       "      <td>5</td>\n",
       "      <td>NaN</td>\n",
       "      <td>39</td>\n",
       "      <td>10006</td>\n",
       "      <td>NaN</td>\n",
       "    </tr>\n",
       "    <tr>\n",
       "      <th>16017</th>\n",
       "      <td>4</td>\n",
       "      <td>NaN</td>\n",
       "      <td>14</td>\n",
       "      <td>10003</td>\n",
       "      <td>NaN</td>\n",
       "    </tr>\n",
       "    <tr>\n",
       "      <th>16018</th>\n",
       "      <td>3</td>\n",
       "      <td>NaN</td>\n",
       "      <td>38</td>\n",
       "      <td>10001</td>\n",
       "      <td>NaN</td>\n",
       "    </tr>\n",
       "  </tbody>\n",
       "</table>\n",
       "<p>16019 rows × 5 columns</p>\n",
       "</div>"
      ],
      "text/plain": [
       "          id note  play  event  representation_order\n",
       "0      16211  NaN    33   8552                   4.0\n",
       "1      16210  NaN  1004   8551                   3.0\n",
       "2      16209  NaN   551   8551                   2.0\n",
       "3      16208  NaN   315   8551                   1.0\n",
       "4      16207  NaN   662   8549                   3.0\n",
       "...      ...  ...   ...    ...                   ...\n",
       "16014      7  NaN    40  10010                   NaN\n",
       "16015      6  NaN    31  10008                   NaN\n",
       "16016      5  NaN    39  10006                   NaN\n",
       "16017      4  NaN    14  10003                   NaN\n",
       "16018      3  NaN    38  10001                   NaN\n",
       "\n",
       "[16019 rows x 5 columns]"
      ]
     },
     "execution_count": 4,
     "metadata": {},
     "output_type": "execute_result"
    }
   ],
   "source": [
    "# On lit le fichier CSV des représentations et on affiche le dataframe\n",
    "df_representation = pd.read_csv(\"Representation-2024-06-14.csv\", delimiter=',', engine=\"python\", encoding='utf-8', header=0)\n",
    "df_representation"
   ]
  },
  {
   "cell_type": "code",
   "execution_count": 5,
   "metadata": {},
   "outputs": [
    {
     "data": {
      "text/html": [
       "<div>\n",
       "<style scoped>\n",
       "    .dataframe tbody tr th:only-of-type {\n",
       "        vertical-align: middle;\n",
       "    }\n",
       "\n",
       "    .dataframe tbody tr th {\n",
       "        vertical-align: top;\n",
       "    }\n",
       "\n",
       "    .dataframe thead th {\n",
       "        text-align: right;\n",
       "    }\n",
       "</style>\n",
       "<table border=\"1\" class=\"dataframe\">\n",
       "  <thead>\n",
       "    <tr style=\"text-align: right;\">\n",
       "      <th></th>\n",
       "      <th>id_x</th>\n",
       "      <th>note_x</th>\n",
       "      <th>location</th>\n",
       "      <th>date</th>\n",
       "      <th>id_y</th>\n",
       "      <th>note_y</th>\n",
       "      <th>play</th>\n",
       "      <th>event</th>\n",
       "      <th>representation_order</th>\n",
       "    </tr>\n",
       "  </thead>\n",
       "  <tbody>\n",
       "    <tr>\n",
       "      <th>0</th>\n",
       "      <td>28188</td>\n",
       "      <td>NaN</td>\n",
       "      <td>3</td>\n",
       "      <td>1761-11-04</td>\n",
       "      <td>14964</td>\n",
       "      <td>NaN</td>\n",
       "      <td>677</td>\n",
       "      <td>28188</td>\n",
       "      <td>6.0</td>\n",
       "    </tr>\n",
       "    <tr>\n",
       "      <th>1</th>\n",
       "      <td>28188</td>\n",
       "      <td>NaN</td>\n",
       "      <td>3</td>\n",
       "      <td>1761-11-04</td>\n",
       "      <td>14963</td>\n",
       "      <td>NaN</td>\n",
       "      <td>945</td>\n",
       "      <td>28188</td>\n",
       "      <td>5.0</td>\n",
       "    </tr>\n",
       "    <tr>\n",
       "      <th>2</th>\n",
       "      <td>28187</td>\n",
       "      <td>NaN</td>\n",
       "      <td>3</td>\n",
       "      <td>1756-12-07</td>\n",
       "      <td>11194</td>\n",
       "      <td>Le même jour on devait représenter à Versaille...</td>\n",
       "      <td>640</td>\n",
       "      <td>28187</td>\n",
       "      <td>4.0</td>\n",
       "    </tr>\n",
       "    <tr>\n",
       "      <th>3</th>\n",
       "      <td>28186</td>\n",
       "      <td>NaN</td>\n",
       "      <td>3</td>\n",
       "      <td>1736-10-27</td>\n",
       "      <td>10063</td>\n",
       "      <td>NaN</td>\n",
       "      <td>405</td>\n",
       "      <td>28186</td>\n",
       "      <td>2.0</td>\n",
       "    </tr>\n",
       "    <tr>\n",
       "      <th>4</th>\n",
       "      <td>28186</td>\n",
       "      <td>NaN</td>\n",
       "      <td>3</td>\n",
       "      <td>1736-10-27</td>\n",
       "      <td>10059</td>\n",
       "      <td>NaN</td>\n",
       "      <td>18</td>\n",
       "      <td>28186</td>\n",
       "      <td>1.0</td>\n",
       "    </tr>\n",
       "    <tr>\n",
       "      <th>...</th>\n",
       "      <td>...</td>\n",
       "      <td>...</td>\n",
       "      <td>...</td>\n",
       "      <td>...</td>\n",
       "      <td>...</td>\n",
       "      <td>...</td>\n",
       "      <td>...</td>\n",
       "      <td>...</td>\n",
       "      <td>...</td>\n",
       "    </tr>\n",
       "    <tr>\n",
       "      <th>16014</th>\n",
       "      <td>2</td>\n",
       "      <td>NaN</td>\n",
       "      <td>1</td>\n",
       "      <td>1723-01-02</td>\n",
       "      <td>1631</td>\n",
       "      <td>NaN</td>\n",
       "      <td>3</td>\n",
       "      <td>2</td>\n",
       "      <td>NaN</td>\n",
       "    </tr>\n",
       "    <tr>\n",
       "      <th>16015</th>\n",
       "      <td>2</td>\n",
       "      <td>NaN</td>\n",
       "      <td>1</td>\n",
       "      <td>1723-01-02</td>\n",
       "      <td>1630</td>\n",
       "      <td>NaN</td>\n",
       "      <td>2</td>\n",
       "      <td>2</td>\n",
       "      <td>NaN</td>\n",
       "    </tr>\n",
       "    <tr>\n",
       "      <th>16016</th>\n",
       "      <td>1</td>\n",
       "      <td>NaN</td>\n",
       "      <td>1</td>\n",
       "      <td>1723-01-01</td>\n",
       "      <td>1629</td>\n",
       "      <td>NaN</td>\n",
       "      <td>1</td>\n",
       "      <td>1</td>\n",
       "      <td>7.0</td>\n",
       "    </tr>\n",
       "    <tr>\n",
       "      <th>16017</th>\n",
       "      <td>1</td>\n",
       "      <td>NaN</td>\n",
       "      <td>1</td>\n",
       "      <td>1723-01-01</td>\n",
       "      <td>1628</td>\n",
       "      <td>NaN</td>\n",
       "      <td>167</td>\n",
       "      <td>1</td>\n",
       "      <td>NaN</td>\n",
       "    </tr>\n",
       "    <tr>\n",
       "      <th>16018</th>\n",
       "      <td>1</td>\n",
       "      <td>NaN</td>\n",
       "      <td>1</td>\n",
       "      <td>1723-01-01</td>\n",
       "      <td>1627</td>\n",
       "      <td>NaN</td>\n",
       "      <td>120</td>\n",
       "      <td>1</td>\n",
       "      <td>NaN</td>\n",
       "    </tr>\n",
       "  </tbody>\n",
       "</table>\n",
       "<p>16019 rows × 9 columns</p>\n",
       "</div>"
      ],
      "text/plain": [
       "        id_x note_x  location        date   id_y  \\\n",
       "0      28188    NaN         3  1761-11-04  14964   \n",
       "1      28188    NaN         3  1761-11-04  14963   \n",
       "2      28187    NaN         3  1756-12-07  11194   \n",
       "3      28186    NaN         3  1736-10-27  10063   \n",
       "4      28186    NaN         3  1736-10-27  10059   \n",
       "...      ...    ...       ...         ...    ...   \n",
       "16014      2    NaN         1  1723-01-02   1631   \n",
       "16015      2    NaN         1  1723-01-02   1630   \n",
       "16016      1    NaN         1  1723-01-01   1629   \n",
       "16017      1    NaN         1  1723-01-01   1628   \n",
       "16018      1    NaN         1  1723-01-01   1627   \n",
       "\n",
       "                                                  note_y  play  event  \\\n",
       "0                                                    NaN   677  28188   \n",
       "1                                                    NaN   945  28188   \n",
       "2      Le même jour on devait représenter à Versaille...   640  28187   \n",
       "3                                                    NaN   405  28186   \n",
       "4                                                    NaN    18  28186   \n",
       "...                                                  ...   ...    ...   \n",
       "16014                                                NaN     3      2   \n",
       "16015                                                NaN     2      2   \n",
       "16016                                                NaN     1      1   \n",
       "16017                                                NaN   167      1   \n",
       "16018                                                NaN   120      1   \n",
       "\n",
       "       representation_order  \n",
       "0                       6.0  \n",
       "1                       5.0  \n",
       "2                       4.0  \n",
       "3                       2.0  \n",
       "4                       1.0  \n",
       "...                     ...  \n",
       "16014                   NaN  \n",
       "16015                   NaN  \n",
       "16016                   7.0  \n",
       "16017                   NaN  \n",
       "16018                   NaN  \n",
       "\n",
       "[16019 rows x 9 columns]"
      ]
     },
     "execution_count": 5,
     "metadata": {},
     "output_type": "execute_result"
    }
   ],
   "source": [
    "df_joined = df_soirée.merge(df_representation, left_on= 'id', right_on='event')\n",
    "df_joined"
   ]
  },
  {
   "cell_type": "code",
   "execution_count": 6,
   "metadata": {},
   "outputs": [
    {
     "data": {
      "text/html": [
       "<div>\n",
       "<style scoped>\n",
       "    .dataframe tbody tr th:only-of-type {\n",
       "        vertical-align: middle;\n",
       "    }\n",
       "\n",
       "    .dataframe tbody tr th {\n",
       "        vertical-align: top;\n",
       "    }\n",
       "\n",
       "    .dataframe thead th {\n",
       "        text-align: right;\n",
       "    }\n",
       "</style>\n",
       "<table border=\"1\" class=\"dataframe\">\n",
       "  <thead>\n",
       "    <tr style=\"text-align: right;\">\n",
       "      <th></th>\n",
       "      <th>id_soirée</th>\n",
       "      <th>note_x</th>\n",
       "      <th>location</th>\n",
       "      <th>date</th>\n",
       "      <th>id_representation</th>\n",
       "      <th>note_y</th>\n",
       "      <th>play</th>\n",
       "      <th>event</th>\n",
       "      <th>representation_order</th>\n",
       "    </tr>\n",
       "  </thead>\n",
       "  <tbody>\n",
       "    <tr>\n",
       "      <th>0</th>\n",
       "      <td>28188</td>\n",
       "      <td>NaN</td>\n",
       "      <td>3</td>\n",
       "      <td>1761-11-04</td>\n",
       "      <td>14964</td>\n",
       "      <td>NaN</td>\n",
       "      <td>677</td>\n",
       "      <td>28188</td>\n",
       "      <td>6.0</td>\n",
       "    </tr>\n",
       "    <tr>\n",
       "      <th>1</th>\n",
       "      <td>28188</td>\n",
       "      <td>NaN</td>\n",
       "      <td>3</td>\n",
       "      <td>1761-11-04</td>\n",
       "      <td>14963</td>\n",
       "      <td>NaN</td>\n",
       "      <td>945</td>\n",
       "      <td>28188</td>\n",
       "      <td>5.0</td>\n",
       "    </tr>\n",
       "    <tr>\n",
       "      <th>2</th>\n",
       "      <td>28187</td>\n",
       "      <td>NaN</td>\n",
       "      <td>3</td>\n",
       "      <td>1756-12-07</td>\n",
       "      <td>11194</td>\n",
       "      <td>Le même jour on devait représenter à Versaille...</td>\n",
       "      <td>640</td>\n",
       "      <td>28187</td>\n",
       "      <td>4.0</td>\n",
       "    </tr>\n",
       "    <tr>\n",
       "      <th>3</th>\n",
       "      <td>28186</td>\n",
       "      <td>NaN</td>\n",
       "      <td>3</td>\n",
       "      <td>1736-10-27</td>\n",
       "      <td>10063</td>\n",
       "      <td>NaN</td>\n",
       "      <td>405</td>\n",
       "      <td>28186</td>\n",
       "      <td>2.0</td>\n",
       "    </tr>\n",
       "    <tr>\n",
       "      <th>4</th>\n",
       "      <td>28186</td>\n",
       "      <td>NaN</td>\n",
       "      <td>3</td>\n",
       "      <td>1736-10-27</td>\n",
       "      <td>10059</td>\n",
       "      <td>NaN</td>\n",
       "      <td>18</td>\n",
       "      <td>28186</td>\n",
       "      <td>1.0</td>\n",
       "    </tr>\n",
       "    <tr>\n",
       "      <th>...</th>\n",
       "      <td>...</td>\n",
       "      <td>...</td>\n",
       "      <td>...</td>\n",
       "      <td>...</td>\n",
       "      <td>...</td>\n",
       "      <td>...</td>\n",
       "      <td>...</td>\n",
       "      <td>...</td>\n",
       "      <td>...</td>\n",
       "    </tr>\n",
       "    <tr>\n",
       "      <th>16014</th>\n",
       "      <td>2</td>\n",
       "      <td>NaN</td>\n",
       "      <td>1</td>\n",
       "      <td>1723-01-02</td>\n",
       "      <td>1631</td>\n",
       "      <td>NaN</td>\n",
       "      <td>3</td>\n",
       "      <td>2</td>\n",
       "      <td>NaN</td>\n",
       "    </tr>\n",
       "    <tr>\n",
       "      <th>16015</th>\n",
       "      <td>2</td>\n",
       "      <td>NaN</td>\n",
       "      <td>1</td>\n",
       "      <td>1723-01-02</td>\n",
       "      <td>1630</td>\n",
       "      <td>NaN</td>\n",
       "      <td>2</td>\n",
       "      <td>2</td>\n",
       "      <td>NaN</td>\n",
       "    </tr>\n",
       "    <tr>\n",
       "      <th>16016</th>\n",
       "      <td>1</td>\n",
       "      <td>NaN</td>\n",
       "      <td>1</td>\n",
       "      <td>1723-01-01</td>\n",
       "      <td>1629</td>\n",
       "      <td>NaN</td>\n",
       "      <td>1</td>\n",
       "      <td>1</td>\n",
       "      <td>7.0</td>\n",
       "    </tr>\n",
       "    <tr>\n",
       "      <th>16017</th>\n",
       "      <td>1</td>\n",
       "      <td>NaN</td>\n",
       "      <td>1</td>\n",
       "      <td>1723-01-01</td>\n",
       "      <td>1628</td>\n",
       "      <td>NaN</td>\n",
       "      <td>167</td>\n",
       "      <td>1</td>\n",
       "      <td>NaN</td>\n",
       "    </tr>\n",
       "    <tr>\n",
       "      <th>16018</th>\n",
       "      <td>1</td>\n",
       "      <td>NaN</td>\n",
       "      <td>1</td>\n",
       "      <td>1723-01-01</td>\n",
       "      <td>1627</td>\n",
       "      <td>NaN</td>\n",
       "      <td>120</td>\n",
       "      <td>1</td>\n",
       "      <td>NaN</td>\n",
       "    </tr>\n",
       "  </tbody>\n",
       "</table>\n",
       "<p>16019 rows × 9 columns</p>\n",
       "</div>"
      ],
      "text/plain": [
       "       id_soirée note_x  location        date  id_representation  \\\n",
       "0          28188    NaN         3  1761-11-04              14964   \n",
       "1          28188    NaN         3  1761-11-04              14963   \n",
       "2          28187    NaN         3  1756-12-07              11194   \n",
       "3          28186    NaN         3  1736-10-27              10063   \n",
       "4          28186    NaN         3  1736-10-27              10059   \n",
       "...          ...    ...       ...         ...                ...   \n",
       "16014          2    NaN         1  1723-01-02               1631   \n",
       "16015          2    NaN         1  1723-01-02               1630   \n",
       "16016          1    NaN         1  1723-01-01               1629   \n",
       "16017          1    NaN         1  1723-01-01               1628   \n",
       "16018          1    NaN         1  1723-01-01               1627   \n",
       "\n",
       "                                                  note_y  play  event  \\\n",
       "0                                                    NaN   677  28188   \n",
       "1                                                    NaN   945  28188   \n",
       "2      Le même jour on devait représenter à Versaille...   640  28187   \n",
       "3                                                    NaN   405  28186   \n",
       "4                                                    NaN    18  28186   \n",
       "...                                                  ...   ...    ...   \n",
       "16014                                                NaN     3      2   \n",
       "16015                                                NaN     2      2   \n",
       "16016                                                NaN     1      1   \n",
       "16017                                                NaN   167      1   \n",
       "16018                                                NaN   120      1   \n",
       "\n",
       "       representation_order  \n",
       "0                       6.0  \n",
       "1                       5.0  \n",
       "2                       4.0  \n",
       "3                       2.0  \n",
       "4                       1.0  \n",
       "...                     ...  \n",
       "16014                   NaN  \n",
       "16015                   NaN  \n",
       "16016                   7.0  \n",
       "16017                   NaN  \n",
       "16018                   NaN  \n",
       "\n",
       "[16019 rows x 9 columns]"
      ]
     },
     "execution_count": 6,
     "metadata": {},
     "output_type": "execute_result"
    }
   ],
   "source": [
    "df_joined = df_joined.rename(columns= {'id_x' : 'id_soirée', 'id_y' : 'id_representation'})\n",
    "df_joined"
   ]
  },
  {
   "cell_type": "code",
   "execution_count": 7,
   "metadata": {},
   "outputs": [
    {
     "data": {
      "text/html": [
       "<div>\n",
       "<style scoped>\n",
       "    .dataframe tbody tr th:only-of-type {\n",
       "        vertical-align: middle;\n",
       "    }\n",
       "\n",
       "    .dataframe tbody tr th {\n",
       "        vertical-align: top;\n",
       "    }\n",
       "\n",
       "    .dataframe thead th {\n",
       "        text-align: right;\n",
       "    }\n",
       "</style>\n",
       "<table border=\"1\" class=\"dataframe\">\n",
       "  <thead>\n",
       "    <tr style=\"text-align: right;\">\n",
       "      <th></th>\n",
       "      <th>id</th>\n",
       "      <th>note</th>\n",
       "      <th>original_title</th>\n",
       "      <th>number_of_acts</th>\n",
       "      <th>entertainment</th>\n",
       "      <th>has_prologue</th>\n",
       "      <th>genre</th>\n",
       "      <th>type</th>\n",
       "      <th>language</th>\n",
       "      <th>edition</th>\n",
       "      <th>source</th>\n",
       "    </tr>\n",
       "  </thead>\n",
       "  <tbody>\n",
       "    <tr>\n",
       "      <th>0</th>\n",
       "      <td>1036</td>\n",
       "      <td>[cha]\\r\\n«Hipolite et Aricie/ Parodie/ Par M.r...</td>\n",
       "      <td>1039</td>\n",
       "      <td>1</td>\n",
       "      <td>NaN</td>\n",
       "      <td>NaN</td>\n",
       "      <td>13.0</td>\n",
       "      <td>3.0</td>\n",
       "      <td>2.0</td>\n",
       "      <td>Esiste una pubblicazione Hippolite et Aricie, ...</td>\n",
       "      <td>BnF, Ms. f. fr. 9334, ff. 18r-36r. BnF, Départ...</td>\n",
       "    </tr>\n",
       "    <tr>\n",
       "      <th>1</th>\n",
       "      <td>1035</td>\n",
       "      <td>NaN</td>\n",
       "      <td>1038</td>\n",
       "      <td>0</td>\n",
       "      <td>NaN</td>\n",
       "      <td>NaN</td>\n",
       "      <td>NaN</td>\n",
       "      <td>NaN</td>\n",
       "      <td>NaN</td>\n",
       "      <td>NaN</td>\n",
       "      <td>NaN</td>\n",
       "    </tr>\n",
       "    <tr>\n",
       "      <th>2</th>\n",
       "      <td>1034</td>\n",
       "      <td>GUEULLETTE 1938, p. 111: «Comédie française, e...</td>\n",
       "      <td>1037</td>\n",
       "      <td>3</td>\n",
       "      <td>1.0</td>\n",
       "      <td>NaN</td>\n",
       "      <td>6.0</td>\n",
       "      <td>1.0</td>\n",
       "      <td>2.0</td>\n",
       "      <td>Argument in Nou. Th. It., 1733, vol. I, pp. 31...</td>\n",
       "      <td>BnF, Ms. f. fr. 9308, ff. 296r-352v. Segue la ...</td>\n",
       "    </tr>\n",
       "    <tr>\n",
       "      <th>3</th>\n",
       "      <td>1033</td>\n",
       "      <td>NaN</td>\n",
       "      <td>1036</td>\n",
       "      <td>0</td>\n",
       "      <td>NaN</td>\n",
       "      <td>NaN</td>\n",
       "      <td>NaN</td>\n",
       "      <td>NaN</td>\n",
       "      <td>NaN</td>\n",
       "      <td>NaN</td>\n",
       "      <td>NaN</td>\n",
       "    </tr>\n",
       "    <tr>\n",
       "      <th>4</th>\n",
       "      <td>1032</td>\n",
       "      <td>NaN</td>\n",
       "      <td>1035</td>\n",
       "      <td>0</td>\n",
       "      <td>NaN</td>\n",
       "      <td>NaN</td>\n",
       "      <td>NaN</td>\n",
       "      <td>NaN</td>\n",
       "      <td>NaN</td>\n",
       "      <td>NaN</td>\n",
       "      <td>NaN</td>\n",
       "    </tr>\n",
       "    <tr>\n",
       "      <th>...</th>\n",
       "      <td>...</td>\n",
       "      <td>...</td>\n",
       "      <td>...</td>\n",
       "      <td>...</td>\n",
       "      <td>...</td>\n",
       "      <td>...</td>\n",
       "      <td>...</td>\n",
       "      <td>...</td>\n",
       "      <td>...</td>\n",
       "      <td>...</td>\n",
       "      <td>...</td>\n",
       "    </tr>\n",
       "    <tr>\n",
       "      <th>1024</th>\n",
       "      <td>5</td>\n",
       "      <td>NaN</td>\n",
       "      <td>5</td>\n",
       "      <td>0</td>\n",
       "      <td>NaN</td>\n",
       "      <td>0.0</td>\n",
       "      <td>NaN</td>\n",
       "      <td>NaN</td>\n",
       "      <td>NaN</td>\n",
       "      <td>NaN</td>\n",
       "      <td>NaN</td>\n",
       "    </tr>\n",
       "    <tr>\n",
       "      <th>1025</th>\n",
       "      <td>4</td>\n",
       "      <td>Commedia con la quale Marivaux incammina il re...</td>\n",
       "      <td>4</td>\n",
       "      <td>1</td>\n",
       "      <td>NaN</td>\n",
       "      <td>0.0</td>\n",
       "      <td>6.0</td>\n",
       "      <td>1.0</td>\n",
       "      <td>2.0</td>\n",
       "      <td>Paris, Veuve Guillaume, 1720. Confluita in Nou...</td>\n",
       "      <td>NaN</td>\n",
       "    </tr>\n",
       "    <tr>\n",
       "      <th>1026</th>\n",
       "      <td>3</td>\n",
       "      <td>PARFAICT 1767, vol. VII, p. 385: «Un acte en p...</td>\n",
       "      <td>3</td>\n",
       "      <td>1</td>\n",
       "      <td>1.0</td>\n",
       "      <td>0.0</td>\n",
       "      <td>6.0</td>\n",
       "      <td>3.0</td>\n",
       "      <td>2.0</td>\n",
       "      <td>In GHERARDI 1700, vol. V, pp. 513-549. In GHER...</td>\n",
       "      <td>NaN</td>\n",
       "    </tr>\n",
       "    <tr>\n",
       "      <th>1027</th>\n",
       "      <td>2</td>\n",
       "      <td>GUEULLETTE 1938, p. 87: «Cette pièce est de Le...</td>\n",
       "      <td>2</td>\n",
       "      <td>3</td>\n",
       "      <td>NaN</td>\n",
       "      <td>0.0</td>\n",
       "      <td>7.0</td>\n",
       "      <td>NaN</td>\n",
       "      <td>1.0</td>\n",
       "      <td>Argument in Nou. Th. It., 1733, vol. I, pp. 48...</td>\n",
       "      <td>NaN</td>\n",
       "    </tr>\n",
       "    <tr>\n",
       "      <th>1028</th>\n",
       "      <td>1</td>\n",
       "      <td>[cha]\\r\\nParodia della quinta ripresa dell'opé...</td>\n",
       "      <td>1</td>\n",
       "      <td>1</td>\n",
       "      <td>NaN</td>\n",
       "      <td>0.0</td>\n",
       "      <td>13.0</td>\n",
       "      <td>3.0</td>\n",
       "      <td>2.0</td>\n",
       "      <td>In Parodies 1731, vol. I, pp. 163-230.Confluit...</td>\n",
       "      <td>NaN</td>\n",
       "    </tr>\n",
       "  </tbody>\n",
       "</table>\n",
       "<p>1029 rows × 11 columns</p>\n",
       "</div>"
      ],
      "text/plain": [
       "        id                                               note  original_title  \\\n",
       "0     1036  [cha]\\r\\n«Hipolite et Aricie/ Parodie/ Par M.r...            1039   \n",
       "1     1035                                                NaN            1038   \n",
       "2     1034  GUEULLETTE 1938, p. 111: «Comédie française, e...            1037   \n",
       "3     1033                                                NaN            1036   \n",
       "4     1032                                                NaN            1035   \n",
       "...    ...                                                ...             ...   \n",
       "1024     5                                                NaN               5   \n",
       "1025     4  Commedia con la quale Marivaux incammina il re...               4   \n",
       "1026     3  PARFAICT 1767, vol. VII, p. 385: «Un acte en p...               3   \n",
       "1027     2  GUEULLETTE 1938, p. 87: «Cette pièce est de Le...               2   \n",
       "1028     1  [cha]\\r\\nParodia della quinta ripresa dell'opé...               1   \n",
       "\n",
       "      number_of_acts  entertainment  has_prologue  genre  type  language  \\\n",
       "0                  1            NaN           NaN   13.0   3.0       2.0   \n",
       "1                  0            NaN           NaN    NaN   NaN       NaN   \n",
       "2                  3            1.0           NaN    6.0   1.0       2.0   \n",
       "3                  0            NaN           NaN    NaN   NaN       NaN   \n",
       "4                  0            NaN           NaN    NaN   NaN       NaN   \n",
       "...              ...            ...           ...    ...   ...       ...   \n",
       "1024               0            NaN           0.0    NaN   NaN       NaN   \n",
       "1025               1            NaN           0.0    6.0   1.0       2.0   \n",
       "1026               1            1.0           0.0    6.0   3.0       2.0   \n",
       "1027               3            NaN           0.0    7.0   NaN       1.0   \n",
       "1028               1            NaN           0.0   13.0   3.0       2.0   \n",
       "\n",
       "                                                edition  \\\n",
       "0     Esiste una pubblicazione Hippolite et Aricie, ...   \n",
       "1                                                   NaN   \n",
       "2     Argument in Nou. Th. It., 1733, vol. I, pp. 31...   \n",
       "3                                                   NaN   \n",
       "4                                                   NaN   \n",
       "...                                                 ...   \n",
       "1024                                                NaN   \n",
       "1025  Paris, Veuve Guillaume, 1720. Confluita in Nou...   \n",
       "1026  In GHERARDI 1700, vol. V, pp. 513-549. In GHER...   \n",
       "1027  Argument in Nou. Th. It., 1733, vol. I, pp. 48...   \n",
       "1028  In Parodies 1731, vol. I, pp. 163-230.Confluit...   \n",
       "\n",
       "                                                 source  \n",
       "0     BnF, Ms. f. fr. 9334, ff. 18r-36r. BnF, Départ...  \n",
       "1                                                   NaN  \n",
       "2     BnF, Ms. f. fr. 9308, ff. 296r-352v. Segue la ...  \n",
       "3                                                   NaN  \n",
       "4                                                   NaN  \n",
       "...                                                 ...  \n",
       "1024                                                NaN  \n",
       "1025                                                NaN  \n",
       "1026                                                NaN  \n",
       "1027                                                NaN  \n",
       "1028                                                NaN  \n",
       "\n",
       "[1029 rows x 11 columns]"
      ]
     },
     "execution_count": 7,
     "metadata": {},
     "output_type": "execute_result"
    }
   ],
   "source": [
    "# On lit le fichier CSV des pièces et on affiche le dataframe\n",
    "df_plays = pd.read_csv(\"Play-2024-06-14.csv\", delimiter=',', engine=\"python\", encoding='utf-8', header=0)\n",
    "df_plays"
   ]
  },
  {
   "cell_type": "markdown",
   "metadata": {},
   "source": [
    "/!\\ correction ci-dessous /!\\"
   ]
  },
  {
   "cell_type": "code",
   "execution_count": 8,
   "metadata": {},
   "outputs": [
    {
     "data": {
      "text/html": [
       "<div>\n",
       "<style scoped>\n",
       "    .dataframe tbody tr th:only-of-type {\n",
       "        vertical-align: middle;\n",
       "    }\n",
       "\n",
       "    .dataframe tbody tr th {\n",
       "        vertical-align: top;\n",
       "    }\n",
       "\n",
       "    .dataframe thead th {\n",
       "        text-align: right;\n",
       "    }\n",
       "</style>\n",
       "<table border=\"1\" class=\"dataframe\">\n",
       "  <thead>\n",
       "    <tr style=\"text-align: right;\">\n",
       "      <th></th>\n",
       "      <th>id_soirée</th>\n",
       "      <th>note_x</th>\n",
       "      <th>location</th>\n",
       "      <th>date</th>\n",
       "      <th>id_representation</th>\n",
       "      <th>note_y</th>\n",
       "      <th>play</th>\n",
       "      <th>event</th>\n",
       "      <th>representation_order</th>\n",
       "      <th>id</th>\n",
       "      <th>note</th>\n",
       "      <th>original_title</th>\n",
       "      <th>number_of_acts</th>\n",
       "      <th>entertainment</th>\n",
       "      <th>has_prologue</th>\n",
       "      <th>genre</th>\n",
       "      <th>type</th>\n",
       "      <th>language</th>\n",
       "      <th>edition</th>\n",
       "      <th>source</th>\n",
       "    </tr>\n",
       "  </thead>\n",
       "  <tbody>\n",
       "    <tr>\n",
       "      <th>0</th>\n",
       "      <td>28188</td>\n",
       "      <td>NaN</td>\n",
       "      <td>3</td>\n",
       "      <td>1761-11-04</td>\n",
       "      <td>14964</td>\n",
       "      <td>NaN</td>\n",
       "      <td>677</td>\n",
       "      <td>28188</td>\n",
       "      <td>6.0</td>\n",
       "      <td>677</td>\n",
       "      <td>GUEULLETTE 1938, p. 152: «Comédie italienne no...</td>\n",
       "      <td>678</td>\n",
       "      <td>1</td>\n",
       "      <td>NaN</td>\n",
       "      <td>NaN</td>\n",
       "      <td>7.0</td>\n",
       "      <td>4.0</td>\n",
       "      <td>1.0</td>\n",
       "      <td>NaN</td>\n",
       "      <td>NaN</td>\n",
       "    </tr>\n",
       "    <tr>\n",
       "      <th>1</th>\n",
       "      <td>17130</td>\n",
       "      <td>NaN</td>\n",
       "      <td>1</td>\n",
       "      <td>1762-10-20</td>\n",
       "      <td>15862</td>\n",
       "      <td>NaN</td>\n",
       "      <td>677</td>\n",
       "      <td>17130</td>\n",
       "      <td>2.0</td>\n",
       "      <td>677</td>\n",
       "      <td>GUEULLETTE 1938, p. 152: «Comédie italienne no...</td>\n",
       "      <td>678</td>\n",
       "      <td>1</td>\n",
       "      <td>NaN</td>\n",
       "      <td>NaN</td>\n",
       "      <td>7.0</td>\n",
       "      <td>4.0</td>\n",
       "      <td>1.0</td>\n",
       "      <td>NaN</td>\n",
       "      <td>NaN</td>\n",
       "    </tr>\n",
       "    <tr>\n",
       "      <th>2</th>\n",
       "      <td>17043</td>\n",
       "      <td>NaN</td>\n",
       "      <td>1</td>\n",
       "      <td>1762-07-25</td>\n",
       "      <td>15608</td>\n",
       "      <td>NaN</td>\n",
       "      <td>677</td>\n",
       "      <td>17043</td>\n",
       "      <td>1.0</td>\n",
       "      <td>677</td>\n",
       "      <td>GUEULLETTE 1938, p. 152: «Comédie italienne no...</td>\n",
       "      <td>678</td>\n",
       "      <td>1</td>\n",
       "      <td>NaN</td>\n",
       "      <td>NaN</td>\n",
       "      <td>7.0</td>\n",
       "      <td>4.0</td>\n",
       "      <td>1.0</td>\n",
       "      <td>NaN</td>\n",
       "      <td>NaN</td>\n",
       "    </tr>\n",
       "    <tr>\n",
       "      <th>3</th>\n",
       "      <td>16883</td>\n",
       "      <td>NaN</td>\n",
       "      <td>1</td>\n",
       "      <td>1762-02-15</td>\n",
       "      <td>15213</td>\n",
       "      <td>NaN</td>\n",
       "      <td>677</td>\n",
       "      <td>16883</td>\n",
       "      <td>2.0</td>\n",
       "      <td>677</td>\n",
       "      <td>GUEULLETTE 1938, p. 152: «Comédie italienne no...</td>\n",
       "      <td>678</td>\n",
       "      <td>1</td>\n",
       "      <td>NaN</td>\n",
       "      <td>NaN</td>\n",
       "      <td>7.0</td>\n",
       "      <td>4.0</td>\n",
       "      <td>1.0</td>\n",
       "      <td>NaN</td>\n",
       "      <td>NaN</td>\n",
       "    </tr>\n",
       "    <tr>\n",
       "      <th>4</th>\n",
       "      <td>16848</td>\n",
       "      <td>NaN</td>\n",
       "      <td>1</td>\n",
       "      <td>1762-01-11</td>\n",
       "      <td>15124</td>\n",
       "      <td>NaN</td>\n",
       "      <td>677</td>\n",
       "      <td>16848</td>\n",
       "      <td>1.0</td>\n",
       "      <td>677</td>\n",
       "      <td>GUEULLETTE 1938, p. 152: «Comédie italienne no...</td>\n",
       "      <td>678</td>\n",
       "      <td>1</td>\n",
       "      <td>NaN</td>\n",
       "      <td>NaN</td>\n",
       "      <td>7.0</td>\n",
       "      <td>4.0</td>\n",
       "      <td>1.0</td>\n",
       "      <td>NaN</td>\n",
       "      <td>NaN</td>\n",
       "    </tr>\n",
       "    <tr>\n",
       "      <th>...</th>\n",
       "      <td>...</td>\n",
       "      <td>...</td>\n",
       "      <td>...</td>\n",
       "      <td>...</td>\n",
       "      <td>...</td>\n",
       "      <td>...</td>\n",
       "      <td>...</td>\n",
       "      <td>...</td>\n",
       "      <td>...</td>\n",
       "      <td>...</td>\n",
       "      <td>...</td>\n",
       "      <td>...</td>\n",
       "      <td>...</td>\n",
       "      <td>...</td>\n",
       "      <td>...</td>\n",
       "      <td>...</td>\n",
       "      <td>...</td>\n",
       "      <td>...</td>\n",
       "      <td>...</td>\n",
       "      <td>...</td>\n",
       "    </tr>\n",
       "    <tr>\n",
       "      <th>16014</th>\n",
       "      <td>28</td>\n",
       "      <td>NaN</td>\n",
       "      <td>1</td>\n",
       "      <td>1723-01-28</td>\n",
       "      <td>1668</td>\n",
       "      <td>NaN</td>\n",
       "      <td>9</td>\n",
       "      <td>28</td>\n",
       "      <td>NaN</td>\n",
       "      <td>9</td>\n",
       "      <td>GUEULLETTE 1938, p. 101: «Par Mr. Delisle. Fut...</td>\n",
       "      <td>9</td>\n",
       "      <td>3</td>\n",
       "      <td>1.0</td>\n",
       "      <td>1.0</td>\n",
       "      <td>6.0</td>\n",
       "      <td>1.0</td>\n",
       "      <td>2.0</td>\n",
       "      <td>Una chanson e un vaudeville in Nou. Th. It., 1...</td>\n",
       "      <td>NaN</td>\n",
       "    </tr>\n",
       "    <tr>\n",
       "      <th>16015</th>\n",
       "      <td>24</td>\n",
       "      <td>NaN</td>\n",
       "      <td>1</td>\n",
       "      <td>1723-01-24</td>\n",
       "      <td>1663</td>\n",
       "      <td>NaN</td>\n",
       "      <td>9</td>\n",
       "      <td>24</td>\n",
       "      <td>NaN</td>\n",
       "      <td>9</td>\n",
       "      <td>GUEULLETTE 1938, p. 101: «Par Mr. Delisle. Fut...</td>\n",
       "      <td>9</td>\n",
       "      <td>3</td>\n",
       "      <td>1.0</td>\n",
       "      <td>1.0</td>\n",
       "      <td>6.0</td>\n",
       "      <td>1.0</td>\n",
       "      <td>2.0</td>\n",
       "      <td>Una chanson e un vaudeville in Nou. Th. It., 1...</td>\n",
       "      <td>NaN</td>\n",
       "    </tr>\n",
       "    <tr>\n",
       "      <th>16016</th>\n",
       "      <td>19</td>\n",
       "      <td>NaN</td>\n",
       "      <td>1</td>\n",
       "      <td>1723-01-19</td>\n",
       "      <td>1658</td>\n",
       "      <td>NaN</td>\n",
       "      <td>9</td>\n",
       "      <td>19</td>\n",
       "      <td>NaN</td>\n",
       "      <td>9</td>\n",
       "      <td>GUEULLETTE 1938, p. 101: «Par Mr. Delisle. Fut...</td>\n",
       "      <td>9</td>\n",
       "      <td>3</td>\n",
       "      <td>1.0</td>\n",
       "      <td>1.0</td>\n",
       "      <td>6.0</td>\n",
       "      <td>1.0</td>\n",
       "      <td>2.0</td>\n",
       "      <td>Una chanson e un vaudeville in Nou. Th. It., 1...</td>\n",
       "      <td>NaN</td>\n",
       "    </tr>\n",
       "    <tr>\n",
       "      <th>16017</th>\n",
       "      <td>17</td>\n",
       "      <td>NaN</td>\n",
       "      <td>1</td>\n",
       "      <td>1723-01-17</td>\n",
       "      <td>1655</td>\n",
       "      <td>NaN</td>\n",
       "      <td>9</td>\n",
       "      <td>17</td>\n",
       "      <td>NaN</td>\n",
       "      <td>9</td>\n",
       "      <td>GUEULLETTE 1938, p. 101: «Par Mr. Delisle. Fut...</td>\n",
       "      <td>9</td>\n",
       "      <td>3</td>\n",
       "      <td>1.0</td>\n",
       "      <td>1.0</td>\n",
       "      <td>6.0</td>\n",
       "      <td>1.0</td>\n",
       "      <td>2.0</td>\n",
       "      <td>Una chanson e un vaudeville in Nou. Th. It., 1...</td>\n",
       "      <td>NaN</td>\n",
       "    </tr>\n",
       "    <tr>\n",
       "      <th>16018</th>\n",
       "      <td>15</td>\n",
       "      <td>NaN</td>\n",
       "      <td>1</td>\n",
       "      <td>1723-01-15</td>\n",
       "      <td>1653</td>\n",
       "      <td>NaN</td>\n",
       "      <td>9</td>\n",
       "      <td>15</td>\n",
       "      <td>NaN</td>\n",
       "      <td>9</td>\n",
       "      <td>GUEULLETTE 1938, p. 101: «Par Mr. Delisle. Fut...</td>\n",
       "      <td>9</td>\n",
       "      <td>3</td>\n",
       "      <td>1.0</td>\n",
       "      <td>1.0</td>\n",
       "      <td>6.0</td>\n",
       "      <td>1.0</td>\n",
       "      <td>2.0</td>\n",
       "      <td>Una chanson e un vaudeville in Nou. Th. It., 1...</td>\n",
       "      <td>NaN</td>\n",
       "    </tr>\n",
       "  </tbody>\n",
       "</table>\n",
       "<p>16019 rows × 20 columns</p>\n",
       "</div>"
      ],
      "text/plain": [
       "       id_soirée note_x  location        date  id_representation note_y  play  \\\n",
       "0          28188    NaN         3  1761-11-04              14964    NaN   677   \n",
       "1          17130    NaN         1  1762-10-20              15862    NaN   677   \n",
       "2          17043    NaN         1  1762-07-25              15608    NaN   677   \n",
       "3          16883    NaN         1  1762-02-15              15213    NaN   677   \n",
       "4          16848    NaN         1  1762-01-11              15124    NaN   677   \n",
       "...          ...    ...       ...         ...                ...    ...   ...   \n",
       "16014         28    NaN         1  1723-01-28               1668    NaN     9   \n",
       "16015         24    NaN         1  1723-01-24               1663    NaN     9   \n",
       "16016         19    NaN         1  1723-01-19               1658    NaN     9   \n",
       "16017         17    NaN         1  1723-01-17               1655    NaN     9   \n",
       "16018         15    NaN         1  1723-01-15               1653    NaN     9   \n",
       "\n",
       "       event  representation_order   id  \\\n",
       "0      28188                   6.0  677   \n",
       "1      17130                   2.0  677   \n",
       "2      17043                   1.0  677   \n",
       "3      16883                   2.0  677   \n",
       "4      16848                   1.0  677   \n",
       "...      ...                   ...  ...   \n",
       "16014     28                   NaN    9   \n",
       "16015     24                   NaN    9   \n",
       "16016     19                   NaN    9   \n",
       "16017     17                   NaN    9   \n",
       "16018     15                   NaN    9   \n",
       "\n",
       "                                                    note  original_title  \\\n",
       "0      GUEULLETTE 1938, p. 152: «Comédie italienne no...             678   \n",
       "1      GUEULLETTE 1938, p. 152: «Comédie italienne no...             678   \n",
       "2      GUEULLETTE 1938, p. 152: «Comédie italienne no...             678   \n",
       "3      GUEULLETTE 1938, p. 152: «Comédie italienne no...             678   \n",
       "4      GUEULLETTE 1938, p. 152: «Comédie italienne no...             678   \n",
       "...                                                  ...             ...   \n",
       "16014  GUEULLETTE 1938, p. 101: «Par Mr. Delisle. Fut...               9   \n",
       "16015  GUEULLETTE 1938, p. 101: «Par Mr. Delisle. Fut...               9   \n",
       "16016  GUEULLETTE 1938, p. 101: «Par Mr. Delisle. Fut...               9   \n",
       "16017  GUEULLETTE 1938, p. 101: «Par Mr. Delisle. Fut...               9   \n",
       "16018  GUEULLETTE 1938, p. 101: «Par Mr. Delisle. Fut...               9   \n",
       "\n",
       "       number_of_acts  entertainment  has_prologue  genre  type  language  \\\n",
       "0                   1            NaN           NaN    7.0   4.0       1.0   \n",
       "1                   1            NaN           NaN    7.0   4.0       1.0   \n",
       "2                   1            NaN           NaN    7.0   4.0       1.0   \n",
       "3                   1            NaN           NaN    7.0   4.0       1.0   \n",
       "4                   1            NaN           NaN    7.0   4.0       1.0   \n",
       "...               ...            ...           ...    ...   ...       ...   \n",
       "16014               3            1.0           1.0    6.0   1.0       2.0   \n",
       "16015               3            1.0           1.0    6.0   1.0       2.0   \n",
       "16016               3            1.0           1.0    6.0   1.0       2.0   \n",
       "16017               3            1.0           1.0    6.0   1.0       2.0   \n",
       "16018               3            1.0           1.0    6.0   1.0       2.0   \n",
       "\n",
       "                                                 edition source  \n",
       "0                                                    NaN    NaN  \n",
       "1                                                    NaN    NaN  \n",
       "2                                                    NaN    NaN  \n",
       "3                                                    NaN    NaN  \n",
       "4                                                    NaN    NaN  \n",
       "...                                                  ...    ...  \n",
       "16014  Una chanson e un vaudeville in Nou. Th. It., 1...    NaN  \n",
       "16015  Una chanson e un vaudeville in Nou. Th. It., 1...    NaN  \n",
       "16016  Una chanson e un vaudeville in Nou. Th. It., 1...    NaN  \n",
       "16017  Una chanson e un vaudeville in Nou. Th. It., 1...    NaN  \n",
       "16018  Una chanson e un vaudeville in Nou. Th. It., 1...    NaN  \n",
       "\n",
       "[16019 rows x 20 columns]"
      ]
     },
     "execution_count": 8,
     "metadata": {},
     "output_type": "execute_result"
    }
   ],
   "source": [
    "df_joined2 = df_joined.merge(df_plays, left_on= 'play', right_on='id')\n",
    "df_joined2 "
   ]
  },
  {
   "cell_type": "code",
   "execution_count": 9,
   "metadata": {},
   "outputs": [
    {
     "data": {
      "text/html": [
       "<div>\n",
       "<style scoped>\n",
       "    .dataframe tbody tr th:only-of-type {\n",
       "        vertical-align: middle;\n",
       "    }\n",
       "\n",
       "    .dataframe tbody tr th {\n",
       "        vertical-align: top;\n",
       "    }\n",
       "\n",
       "    .dataframe thead th {\n",
       "        text-align: right;\n",
       "    }\n",
       "</style>\n",
       "<table border=\"1\" class=\"dataframe\">\n",
       "  <thead>\n",
       "    <tr style=\"text-align: right;\">\n",
       "      <th></th>\n",
       "      <th>id_soirée</th>\n",
       "      <th>note_x</th>\n",
       "      <th>location</th>\n",
       "      <th>date</th>\n",
       "      <th>id_representation</th>\n",
       "      <th>note_y</th>\n",
       "      <th>play</th>\n",
       "      <th>event</th>\n",
       "      <th>representation_order</th>\n",
       "      <th>id_piece</th>\n",
       "      <th>note</th>\n",
       "      <th>original_title</th>\n",
       "      <th>number_of_acts</th>\n",
       "      <th>entertainment</th>\n",
       "      <th>has_prologue</th>\n",
       "      <th>genre</th>\n",
       "      <th>type</th>\n",
       "      <th>language</th>\n",
       "      <th>edition</th>\n",
       "      <th>source</th>\n",
       "    </tr>\n",
       "  </thead>\n",
       "  <tbody>\n",
       "    <tr>\n",
       "      <th>0</th>\n",
       "      <td>28188</td>\n",
       "      <td>NaN</td>\n",
       "      <td>3</td>\n",
       "      <td>1761-11-04</td>\n",
       "      <td>14964</td>\n",
       "      <td>NaN</td>\n",
       "      <td>677</td>\n",
       "      <td>28188</td>\n",
       "      <td>6.0</td>\n",
       "      <td>677</td>\n",
       "      <td>GUEULLETTE 1938, p. 152: «Comédie italienne no...</td>\n",
       "      <td>678</td>\n",
       "      <td>1</td>\n",
       "      <td>NaN</td>\n",
       "      <td>NaN</td>\n",
       "      <td>7.0</td>\n",
       "      <td>4.0</td>\n",
       "      <td>1.0</td>\n",
       "      <td>NaN</td>\n",
       "      <td>NaN</td>\n",
       "    </tr>\n",
       "    <tr>\n",
       "      <th>1</th>\n",
       "      <td>17130</td>\n",
       "      <td>NaN</td>\n",
       "      <td>1</td>\n",
       "      <td>1762-10-20</td>\n",
       "      <td>15862</td>\n",
       "      <td>NaN</td>\n",
       "      <td>677</td>\n",
       "      <td>17130</td>\n",
       "      <td>2.0</td>\n",
       "      <td>677</td>\n",
       "      <td>GUEULLETTE 1938, p. 152: «Comédie italienne no...</td>\n",
       "      <td>678</td>\n",
       "      <td>1</td>\n",
       "      <td>NaN</td>\n",
       "      <td>NaN</td>\n",
       "      <td>7.0</td>\n",
       "      <td>4.0</td>\n",
       "      <td>1.0</td>\n",
       "      <td>NaN</td>\n",
       "      <td>NaN</td>\n",
       "    </tr>\n",
       "    <tr>\n",
       "      <th>2</th>\n",
       "      <td>17043</td>\n",
       "      <td>NaN</td>\n",
       "      <td>1</td>\n",
       "      <td>1762-07-25</td>\n",
       "      <td>15608</td>\n",
       "      <td>NaN</td>\n",
       "      <td>677</td>\n",
       "      <td>17043</td>\n",
       "      <td>1.0</td>\n",
       "      <td>677</td>\n",
       "      <td>GUEULLETTE 1938, p. 152: «Comédie italienne no...</td>\n",
       "      <td>678</td>\n",
       "      <td>1</td>\n",
       "      <td>NaN</td>\n",
       "      <td>NaN</td>\n",
       "      <td>7.0</td>\n",
       "      <td>4.0</td>\n",
       "      <td>1.0</td>\n",
       "      <td>NaN</td>\n",
       "      <td>NaN</td>\n",
       "    </tr>\n",
       "    <tr>\n",
       "      <th>3</th>\n",
       "      <td>16883</td>\n",
       "      <td>NaN</td>\n",
       "      <td>1</td>\n",
       "      <td>1762-02-15</td>\n",
       "      <td>15213</td>\n",
       "      <td>NaN</td>\n",
       "      <td>677</td>\n",
       "      <td>16883</td>\n",
       "      <td>2.0</td>\n",
       "      <td>677</td>\n",
       "      <td>GUEULLETTE 1938, p. 152: «Comédie italienne no...</td>\n",
       "      <td>678</td>\n",
       "      <td>1</td>\n",
       "      <td>NaN</td>\n",
       "      <td>NaN</td>\n",
       "      <td>7.0</td>\n",
       "      <td>4.0</td>\n",
       "      <td>1.0</td>\n",
       "      <td>NaN</td>\n",
       "      <td>NaN</td>\n",
       "    </tr>\n",
       "    <tr>\n",
       "      <th>4</th>\n",
       "      <td>16848</td>\n",
       "      <td>NaN</td>\n",
       "      <td>1</td>\n",
       "      <td>1762-01-11</td>\n",
       "      <td>15124</td>\n",
       "      <td>NaN</td>\n",
       "      <td>677</td>\n",
       "      <td>16848</td>\n",
       "      <td>1.0</td>\n",
       "      <td>677</td>\n",
       "      <td>GUEULLETTE 1938, p. 152: «Comédie italienne no...</td>\n",
       "      <td>678</td>\n",
       "      <td>1</td>\n",
       "      <td>NaN</td>\n",
       "      <td>NaN</td>\n",
       "      <td>7.0</td>\n",
       "      <td>4.0</td>\n",
       "      <td>1.0</td>\n",
       "      <td>NaN</td>\n",
       "      <td>NaN</td>\n",
       "    </tr>\n",
       "    <tr>\n",
       "      <th>...</th>\n",
       "      <td>...</td>\n",
       "      <td>...</td>\n",
       "      <td>...</td>\n",
       "      <td>...</td>\n",
       "      <td>...</td>\n",
       "      <td>...</td>\n",
       "      <td>...</td>\n",
       "      <td>...</td>\n",
       "      <td>...</td>\n",
       "      <td>...</td>\n",
       "      <td>...</td>\n",
       "      <td>...</td>\n",
       "      <td>...</td>\n",
       "      <td>...</td>\n",
       "      <td>...</td>\n",
       "      <td>...</td>\n",
       "      <td>...</td>\n",
       "      <td>...</td>\n",
       "      <td>...</td>\n",
       "      <td>...</td>\n",
       "    </tr>\n",
       "    <tr>\n",
       "      <th>16014</th>\n",
       "      <td>28</td>\n",
       "      <td>NaN</td>\n",
       "      <td>1</td>\n",
       "      <td>1723-01-28</td>\n",
       "      <td>1668</td>\n",
       "      <td>NaN</td>\n",
       "      <td>9</td>\n",
       "      <td>28</td>\n",
       "      <td>NaN</td>\n",
       "      <td>9</td>\n",
       "      <td>GUEULLETTE 1938, p. 101: «Par Mr. Delisle. Fut...</td>\n",
       "      <td>9</td>\n",
       "      <td>3</td>\n",
       "      <td>1.0</td>\n",
       "      <td>1.0</td>\n",
       "      <td>6.0</td>\n",
       "      <td>1.0</td>\n",
       "      <td>2.0</td>\n",
       "      <td>Una chanson e un vaudeville in Nou. Th. It., 1...</td>\n",
       "      <td>NaN</td>\n",
       "    </tr>\n",
       "    <tr>\n",
       "      <th>16015</th>\n",
       "      <td>24</td>\n",
       "      <td>NaN</td>\n",
       "      <td>1</td>\n",
       "      <td>1723-01-24</td>\n",
       "      <td>1663</td>\n",
       "      <td>NaN</td>\n",
       "      <td>9</td>\n",
       "      <td>24</td>\n",
       "      <td>NaN</td>\n",
       "      <td>9</td>\n",
       "      <td>GUEULLETTE 1938, p. 101: «Par Mr. Delisle. Fut...</td>\n",
       "      <td>9</td>\n",
       "      <td>3</td>\n",
       "      <td>1.0</td>\n",
       "      <td>1.0</td>\n",
       "      <td>6.0</td>\n",
       "      <td>1.0</td>\n",
       "      <td>2.0</td>\n",
       "      <td>Una chanson e un vaudeville in Nou. Th. It., 1...</td>\n",
       "      <td>NaN</td>\n",
       "    </tr>\n",
       "    <tr>\n",
       "      <th>16016</th>\n",
       "      <td>19</td>\n",
       "      <td>NaN</td>\n",
       "      <td>1</td>\n",
       "      <td>1723-01-19</td>\n",
       "      <td>1658</td>\n",
       "      <td>NaN</td>\n",
       "      <td>9</td>\n",
       "      <td>19</td>\n",
       "      <td>NaN</td>\n",
       "      <td>9</td>\n",
       "      <td>GUEULLETTE 1938, p. 101: «Par Mr. Delisle. Fut...</td>\n",
       "      <td>9</td>\n",
       "      <td>3</td>\n",
       "      <td>1.0</td>\n",
       "      <td>1.0</td>\n",
       "      <td>6.0</td>\n",
       "      <td>1.0</td>\n",
       "      <td>2.0</td>\n",
       "      <td>Una chanson e un vaudeville in Nou. Th. It., 1...</td>\n",
       "      <td>NaN</td>\n",
       "    </tr>\n",
       "    <tr>\n",
       "      <th>16017</th>\n",
       "      <td>17</td>\n",
       "      <td>NaN</td>\n",
       "      <td>1</td>\n",
       "      <td>1723-01-17</td>\n",
       "      <td>1655</td>\n",
       "      <td>NaN</td>\n",
       "      <td>9</td>\n",
       "      <td>17</td>\n",
       "      <td>NaN</td>\n",
       "      <td>9</td>\n",
       "      <td>GUEULLETTE 1938, p. 101: «Par Mr. Delisle. Fut...</td>\n",
       "      <td>9</td>\n",
       "      <td>3</td>\n",
       "      <td>1.0</td>\n",
       "      <td>1.0</td>\n",
       "      <td>6.0</td>\n",
       "      <td>1.0</td>\n",
       "      <td>2.0</td>\n",
       "      <td>Una chanson e un vaudeville in Nou. Th. It., 1...</td>\n",
       "      <td>NaN</td>\n",
       "    </tr>\n",
       "    <tr>\n",
       "      <th>16018</th>\n",
       "      <td>15</td>\n",
       "      <td>NaN</td>\n",
       "      <td>1</td>\n",
       "      <td>1723-01-15</td>\n",
       "      <td>1653</td>\n",
       "      <td>NaN</td>\n",
       "      <td>9</td>\n",
       "      <td>15</td>\n",
       "      <td>NaN</td>\n",
       "      <td>9</td>\n",
       "      <td>GUEULLETTE 1938, p. 101: «Par Mr. Delisle. Fut...</td>\n",
       "      <td>9</td>\n",
       "      <td>3</td>\n",
       "      <td>1.0</td>\n",
       "      <td>1.0</td>\n",
       "      <td>6.0</td>\n",
       "      <td>1.0</td>\n",
       "      <td>2.0</td>\n",
       "      <td>Una chanson e un vaudeville in Nou. Th. It., 1...</td>\n",
       "      <td>NaN</td>\n",
       "    </tr>\n",
       "  </tbody>\n",
       "</table>\n",
       "<p>16019 rows × 20 columns</p>\n",
       "</div>"
      ],
      "text/plain": [
       "       id_soirée note_x  location        date  id_representation note_y  play  \\\n",
       "0          28188    NaN         3  1761-11-04              14964    NaN   677   \n",
       "1          17130    NaN         1  1762-10-20              15862    NaN   677   \n",
       "2          17043    NaN         1  1762-07-25              15608    NaN   677   \n",
       "3          16883    NaN         1  1762-02-15              15213    NaN   677   \n",
       "4          16848    NaN         1  1762-01-11              15124    NaN   677   \n",
       "...          ...    ...       ...         ...                ...    ...   ...   \n",
       "16014         28    NaN         1  1723-01-28               1668    NaN     9   \n",
       "16015         24    NaN         1  1723-01-24               1663    NaN     9   \n",
       "16016         19    NaN         1  1723-01-19               1658    NaN     9   \n",
       "16017         17    NaN         1  1723-01-17               1655    NaN     9   \n",
       "16018         15    NaN         1  1723-01-15               1653    NaN     9   \n",
       "\n",
       "       event  representation_order  id_piece  \\\n",
       "0      28188                   6.0       677   \n",
       "1      17130                   2.0       677   \n",
       "2      17043                   1.0       677   \n",
       "3      16883                   2.0       677   \n",
       "4      16848                   1.0       677   \n",
       "...      ...                   ...       ...   \n",
       "16014     28                   NaN         9   \n",
       "16015     24                   NaN         9   \n",
       "16016     19                   NaN         9   \n",
       "16017     17                   NaN         9   \n",
       "16018     15                   NaN         9   \n",
       "\n",
       "                                                    note  original_title  \\\n",
       "0      GUEULLETTE 1938, p. 152: «Comédie italienne no...             678   \n",
       "1      GUEULLETTE 1938, p. 152: «Comédie italienne no...             678   \n",
       "2      GUEULLETTE 1938, p. 152: «Comédie italienne no...             678   \n",
       "3      GUEULLETTE 1938, p. 152: «Comédie italienne no...             678   \n",
       "4      GUEULLETTE 1938, p. 152: «Comédie italienne no...             678   \n",
       "...                                                  ...             ...   \n",
       "16014  GUEULLETTE 1938, p. 101: «Par Mr. Delisle. Fut...               9   \n",
       "16015  GUEULLETTE 1938, p. 101: «Par Mr. Delisle. Fut...               9   \n",
       "16016  GUEULLETTE 1938, p. 101: «Par Mr. Delisle. Fut...               9   \n",
       "16017  GUEULLETTE 1938, p. 101: «Par Mr. Delisle. Fut...               9   \n",
       "16018  GUEULLETTE 1938, p. 101: «Par Mr. Delisle. Fut...               9   \n",
       "\n",
       "       number_of_acts  entertainment  has_prologue  genre  type  language  \\\n",
       "0                   1            NaN           NaN    7.0   4.0       1.0   \n",
       "1                   1            NaN           NaN    7.0   4.0       1.0   \n",
       "2                   1            NaN           NaN    7.0   4.0       1.0   \n",
       "3                   1            NaN           NaN    7.0   4.0       1.0   \n",
       "4                   1            NaN           NaN    7.0   4.0       1.0   \n",
       "...               ...            ...           ...    ...   ...       ...   \n",
       "16014               3            1.0           1.0    6.0   1.0       2.0   \n",
       "16015               3            1.0           1.0    6.0   1.0       2.0   \n",
       "16016               3            1.0           1.0    6.0   1.0       2.0   \n",
       "16017               3            1.0           1.0    6.0   1.0       2.0   \n",
       "16018               3            1.0           1.0    6.0   1.0       2.0   \n",
       "\n",
       "                                                 edition source  \n",
       "0                                                    NaN    NaN  \n",
       "1                                                    NaN    NaN  \n",
       "2                                                    NaN    NaN  \n",
       "3                                                    NaN    NaN  \n",
       "4                                                    NaN    NaN  \n",
       "...                                                  ...    ...  \n",
       "16014  Una chanson e un vaudeville in Nou. Th. It., 1...    NaN  \n",
       "16015  Una chanson e un vaudeville in Nou. Th. It., 1...    NaN  \n",
       "16016  Una chanson e un vaudeville in Nou. Th. It., 1...    NaN  \n",
       "16017  Una chanson e un vaudeville in Nou. Th. It., 1...    NaN  \n",
       "16018  Una chanson e un vaudeville in Nou. Th. It., 1...    NaN  \n",
       "\n",
       "[16019 rows x 20 columns]"
      ]
     },
     "execution_count": 9,
     "metadata": {},
     "output_type": "execute_result"
    }
   ],
   "source": [
    "# On renomme le 3e id en id_piece\n",
    "df_joined2 = df_joined2.rename(columns= {'id' : 'id_piece'})\n",
    "df_joined2"
   ]
  },
  {
   "cell_type": "markdown",
   "metadata": {},
   "source": [
    "# A la fin il faut avoir un tableau où on a les dates et les genres des pièces"
   ]
  },
  {
   "cell_type": "code",
   "execution_count": 10,
   "metadata": {},
   "outputs": [
    {
     "data": {
      "text/html": [
       "<div>\n",
       "<style scoped>\n",
       "    .dataframe tbody tr th:only-of-type {\n",
       "        vertical-align: middle;\n",
       "    }\n",
       "\n",
       "    .dataframe tbody tr th {\n",
       "        vertical-align: top;\n",
       "    }\n",
       "\n",
       "    .dataframe thead th {\n",
       "        text-align: right;\n",
       "    }\n",
       "</style>\n",
       "<table border=\"1\" class=\"dataframe\">\n",
       "  <thead>\n",
       "    <tr style=\"text-align: right;\">\n",
       "      <th></th>\n",
       "      <th>date</th>\n",
       "      <th>genre</th>\n",
       "    </tr>\n",
       "  </thead>\n",
       "  <tbody>\n",
       "    <tr>\n",
       "      <th>0</th>\n",
       "      <td>1761-11-04</td>\n",
       "      <td>7.0</td>\n",
       "    </tr>\n",
       "    <tr>\n",
       "      <th>1</th>\n",
       "      <td>1762-10-20</td>\n",
       "      <td>7.0</td>\n",
       "    </tr>\n",
       "    <tr>\n",
       "      <th>2</th>\n",
       "      <td>1762-07-25</td>\n",
       "      <td>7.0</td>\n",
       "    </tr>\n",
       "    <tr>\n",
       "      <th>3</th>\n",
       "      <td>1762-02-15</td>\n",
       "      <td>7.0</td>\n",
       "    </tr>\n",
       "    <tr>\n",
       "      <th>4</th>\n",
       "      <td>1762-01-11</td>\n",
       "      <td>7.0</td>\n",
       "    </tr>\n",
       "    <tr>\n",
       "      <th>...</th>\n",
       "      <td>...</td>\n",
       "      <td>...</td>\n",
       "    </tr>\n",
       "    <tr>\n",
       "      <th>16014</th>\n",
       "      <td>1723-01-28</td>\n",
       "      <td>6.0</td>\n",
       "    </tr>\n",
       "    <tr>\n",
       "      <th>16015</th>\n",
       "      <td>1723-01-24</td>\n",
       "      <td>6.0</td>\n",
       "    </tr>\n",
       "    <tr>\n",
       "      <th>16016</th>\n",
       "      <td>1723-01-19</td>\n",
       "      <td>6.0</td>\n",
       "    </tr>\n",
       "    <tr>\n",
       "      <th>16017</th>\n",
       "      <td>1723-01-17</td>\n",
       "      <td>6.0</td>\n",
       "    </tr>\n",
       "    <tr>\n",
       "      <th>16018</th>\n",
       "      <td>1723-01-15</td>\n",
       "      <td>6.0</td>\n",
       "    </tr>\n",
       "  </tbody>\n",
       "</table>\n",
       "<p>16019 rows × 2 columns</p>\n",
       "</div>"
      ],
      "text/plain": [
       "             date  genre\n",
       "0      1761-11-04    7.0\n",
       "1      1762-10-20    7.0\n",
       "2      1762-07-25    7.0\n",
       "3      1762-02-15    7.0\n",
       "4      1762-01-11    7.0\n",
       "...           ...    ...\n",
       "16014  1723-01-28    6.0\n",
       "16015  1723-01-24    6.0\n",
       "16016  1723-01-19    6.0\n",
       "16017  1723-01-17    6.0\n",
       "16018  1723-01-15    6.0\n",
       "\n",
       "[16019 rows x 2 columns]"
      ]
     },
     "execution_count": 10,
     "metadata": {},
     "output_type": "execute_result"
    }
   ],
   "source": [
    "# On supprime les colonnes inutiles\n",
    "df_joined_final = df_joined2.drop(columns=['id_soirée', 'play', 'event', 'representation_order', 'id_piece', 'original_title', 'id_representation', 'note_x', 'note_y', 'note', 'location', 'number_of_acts', 'entertainment', 'has_prologue', 'type', 'language', 'edition', 'source'])\n",
    "df_joined_final"
   ]
  },
  {
   "cell_type": "code",
   "execution_count": 11,
   "metadata": {},
   "outputs": [
    {
     "data": {
      "image/png": "[encoded data removed]",
      "text/plain": [
       "<Figure size 1000x600 with 1 Axes>"
      ]
     },
     "metadata": {},
     "output_type": "display_data"
    }
   ],
   "source": [
    "# Charger le DataFrame à partir du fichier CSV \n",
    "df_joined_final\n",
    "\n",
    "# Remplacer les valeurs NaN par 0 \n",
    "df_joined_final['genre'] = df_joined_final['genre'].fillna(0)\n",
    "\n",
    "# Convertir la colonne 'date' en type datetime\n",
    "df_joined_final['date'] = pd.to_datetime(df_joined_final['date'])\n",
    "\n",
    "# Extraire l'année de la colonne 'date'\n",
    "df_joined_final['year'] = df_joined_final['date'].dt.year\n",
    "\n",
    "# Sélectionner un genre spécifique\n",
    "genre_to_study = 3.0\n",
    "df_genre = df_joined_final[df_joined_final['genre'] == genre_to_study]\n",
    "\n",
    "# Grouper par année et compter les occurrences\n",
    "yearly_counts = df_genre.groupby('year').size()\n",
    "\n",
    "# Créer le barplot\n",
    "plt.figure(figsize=(10, 6))\n",
    "yearly_counts.plot(kind='bar', color='skyblue')\n",
    "plt.xlabel('Année')\n",
    "plt.ylabel('Nombre de pièces')\n",
    "plt.title(f'Nombre de pièces du genre Prologue jouées par année')\n",
    "plt.show()"
   ]
  },
  {
   "cell_type": "code",
   "execution_count": 12,
   "metadata": {},
   "outputs": [
    {
     "data": {
      "image/png": "[encoded data removed]",
      "text/plain": [
       "<Figure size 1000x600 with 1 Axes>"
      ]
     },
     "metadata": {},
     "output_type": "display_data"
    }
   ],
   "source": [
    "# Charger le DataFrame à partir du fichier CSV \n",
    "df_joined_final\n",
    "\n",
    "# Remplacer les valeurs NaN par 0 \n",
    "df_joined_final['genre'] = df_joined_final['genre'].fillna(0)\n",
    "\n",
    "# Convertir la colonne 'date' en type datetime\n",
    "df_joined_final['date'] = pd.to_datetime(df_joined_final['date'])\n",
    "\n",
    "# Extraire l'année de la colonne 'date'\n",
    "df_joined_final['year'] = df_joined_final['date'].dt.year\n",
    "\n",
    "# Sélectionner un genre spécifique\n",
    "genre_to_study = 4.0\n",
    "df_genre = df_joined_final[df_joined_final['genre'] == genre_to_study]\n",
    "\n",
    "# Grouper par année et compter les occurrences\n",
    "yearly_counts = df_genre.groupby('year').size()\n",
    "\n",
    "# Créer le barplot\n",
    "plt.figure(figsize=(10, 6))\n",
    "yearly_counts.plot(kind='bar', color='skyblue')\n",
    "plt.xlabel('Année')\n",
    "plt.ylabel('Nombre de pièces')\n",
    "plt.title(f'Nombre de pièces du genre Ballet jouées par année')\n",
    "plt.show()"
   ]
  },
  {
   "cell_type": "code",
   "execution_count": 13,
   "metadata": {},
   "outputs": [
    {
     "data": {
      "image/png": "[encoded data removed]",
      "text/plain": [
       "<Figure size 1000x600 with 1 Axes>"
      ]
     },
     "metadata": {},
     "output_type": "display_data"
    }
   ],
   "source": [
    "# Charger le DataFrame à partir du fichier CSV \n",
    "df_joined_final\n",
    "\n",
    "# Remplacer les valeurs NaN par 0 \n",
    "df_joined_final['genre'] = df_joined_final['genre'].fillna(0)\n",
    "\n",
    "# Convertir la colonne 'date' en type datetime\n",
    "df_joined_final['date'] = pd.to_datetime(df_joined_final['date'])\n",
    "\n",
    "# Extraire l'année de la colonne 'date'\n",
    "df_joined_final['year'] = df_joined_final['date'].dt.year\n",
    "\n",
    "# Sélectionner un genre spécifique\n",
    "genre_to_study = 5.0\n",
    "df_genre = df_joined_final[df_joined_final['genre'] == genre_to_study]\n",
    "\n",
    "# Grouper par année et compter les occurrences\n",
    "yearly_counts = df_genre.groupby('year').size()\n",
    "\n",
    "# Créer le barplot\n",
    "plt.figure(figsize=(10, 6))\n",
    "yearly_counts.plot(kind='bar', color='skyblue')\n",
    "plt.xlabel('Année')\n",
    "plt.ylabel('Nombre de pièces')\n",
    "plt.title(f'Nombre de pièces du genre Divertissement jouées par année')\n",
    "plt.show()"
   ]
  },
  {
   "cell_type": "code",
   "execution_count": 14,
   "metadata": {},
   "outputs": [
    {
     "data": {
      "image/png": "[encoded data removed]",
      "text/plain": [
       "<Figure size 1000x600 with 1 Axes>"
      ]
     },
     "metadata": {},
     "output_type": "display_data"
    }
   ],
   "source": [
    "# Charger le DataFrame à partir du fichier CSV \n",
    "df_joined_final\n",
    "\n",
    "# Remplacer les valeurs NaN par 0 \n",
    "df_joined_final['genre'] = df_joined_final['genre'].fillna(0)\n",
    "\n",
    "# Convertir la colonne 'date' en type datetime\n",
    "df_joined_final['date'] = pd.to_datetime(df_joined_final['date'])\n",
    "\n",
    "# Extraire l'année de la colonne 'date'\n",
    "df_joined_final['year'] = df_joined_final['date'].dt.year\n",
    "\n",
    "# Sélectionner un genre spécifique\n",
    "genre_to_study = 6.0\n",
    "df_genre = df_joined_final[df_joined_final['genre'] == genre_to_study]\n",
    "\n",
    "# Grouper par année et compter les occurrences\n",
    "yearly_counts = df_genre.groupby('year').size()\n",
    "\n",
    "# Créer le barplot\n",
    "plt.figure(figsize=(10, 6))\n",
    "yearly_counts.plot(kind='bar', color='skyblue')\n",
    "plt.xlabel('Année')\n",
    "plt.ylabel('Nombre de pièces')\n",
    "plt.title(f'Nombre de pièces du genre Comédie jouées par année')\n",
    "plt.show()"
   ]
  },
  {
   "cell_type": "code",
   "execution_count": 15,
   "metadata": {},
   "outputs": [
    {
     "data": {
      "image/png": "[encoded data removed]",
      "text/plain": [
       "<Figure size 1000x600 with 1 Axes>"
      ]
     },
     "metadata": {},
     "output_type": "display_data"
    }
   ],
   "source": [
    "# Charger le DataFrame à partir du fichier CSV \n",
    "df_joined_final\n",
    "\n",
    "# Remplacer les valeurs NaN par 0 \n",
    "df_joined_final['genre'] = df_joined_final['genre'].fillna(0)\n",
    "\n",
    "# Convertir la colonne 'date' en type datetime\n",
    "df_joined_final['date'] = pd.to_datetime(df_joined_final['date'])\n",
    "\n",
    "# Extraire l'année de la colonne 'date'\n",
    "df_joined_final['year'] = df_joined_final['date'].dt.year\n",
    "\n",
    "# Sélectionner un genre spécifique\n",
    "genre_to_study = 7.0\n",
    "df_genre = df_joined_final[df_joined_final['genre'] == genre_to_study]\n",
    "\n",
    "# Grouper par année et compter les occurrences\n",
    "yearly_counts = df_genre.groupby('year').size()\n",
    "\n",
    "# Créer le barplot\n",
    "plt.figure(figsize=(10, 6))\n",
    "yearly_counts.plot(kind='bar', color='skyblue')\n",
    "plt.xlabel('Année')\n",
    "plt.ylabel('Nombre de pièces')\n",
    "plt.title(f'Nombre de pièces du genre Comédie à l\\'impromptu jouées par année')\n",
    "plt.show()"
   ]
  },
  {
   "cell_type": "code",
   "execution_count": 16,
   "metadata": {},
   "outputs": [
    {
     "data": {
      "image/png": "[encoded data removed]",
      "text/plain": [
       "<Figure size 1000x600 with 1 Axes>"
      ]
     },
     "metadata": {},
     "output_type": "display_data"
    }
   ],
   "source": [
    "# Charger le DataFrame à partir du fichier CSV \n",
    "df_joined_final\n",
    "\n",
    "# Remplacer les valeurs NaN par 0 \n",
    "df_joined_final['genre'] = df_joined_final['genre'].fillna(0)\n",
    "\n",
    "# Convertir la colonne 'date' en type datetime\n",
    "df_joined_final['date'] = pd.to_datetime(df_joined_final['date'])\n",
    "\n",
    "# Extraire l'année de la colonne 'date'\n",
    "df_joined_final['year'] = df_joined_final['date'].dt.year\n",
    "\n",
    "# Sélectionner un genre spécifique\n",
    "genre_to_study = 8.0\n",
    "df_genre = df_joined_final[df_joined_final['genre'] == genre_to_study]\n",
    "\n",
    "# Grouper par année et compter les occurrences\n",
    "yearly_counts = df_genre.groupby('year').size()\n",
    "\n",
    "# Créer le barplot\n",
    "plt.figure(figsize=(10, 6))\n",
    "yearly_counts.plot(kind='bar', color='skyblue')\n",
    "plt.xlabel('Année')\n",
    "plt.ylabel('Nombre de pièces')\n",
    "plt.title(f'Nombre de pièces du genre Tragi-comédie jouées par année')\n",
    "plt.show()"
   ]
  },
  {
   "cell_type": "code",
   "execution_count": 17,
   "metadata": {},
   "outputs": [
    {
     "data": {
      "image/png": "[encoded data removed]",
      "text/plain": [
       "<Figure size 1000x600 with 1 Axes>"
      ]
     },
     "metadata": {},
     "output_type": "display_data"
    }
   ],
   "source": [
    "# Charger le DataFrame à partir du fichier CSV \n",
    "df_joined_final\n",
    "\n",
    "# Remplacer les valeurs NaN par 0 \n",
    "df_joined_final['genre'] = df_joined_final['genre'].fillna(0)\n",
    "\n",
    "# Convertir la colonne 'date' en type datetime\n",
    "df_joined_final['date'] = pd.to_datetime(df_joined_final['date'])\n",
    "\n",
    "# Extraire l'année de la colonne 'date'\n",
    "df_joined_final['year'] = df_joined_final['date'].dt.year\n",
    "\n",
    "# Sélectionner un genre spécifique\n",
    "genre_to_study = 9.0\n",
    "df_genre = df_joined_final[df_joined_final['genre'] == genre_to_study]\n",
    "\n",
    "# Grouper par année et compter les occurrences\n",
    "yearly_counts = df_genre.groupby('year').size()\n",
    "\n",
    "# Créer le barplot\n",
    "plt.figure(figsize=(10, 6))\n",
    "yearly_counts.plot(kind='bar', color='skyblue')\n",
    "plt.xlabel('Année')\n",
    "plt.ylabel('Nombre de pièces')\n",
    "plt.title(f'Nombre de pièces du genre Tragédie jouées par année')\n",
    "plt.show()"
   ]
  },
  {
   "cell_type": "code",
   "execution_count": 18,
   "metadata": {},
   "outputs": [
    {
     "data": {
      "image/png": "[encoded data removed]",
      "text/plain": [
       "<Figure size 1000x600 with 1 Axes>"
      ]
     },
     "metadata": {},
     "output_type": "display_data"
    }
   ],
   "source": [
    "# Charger le DataFrame à partir du fichier CSV \n",
    "df_joined_final\n",
    "\n",
    "# Remplacer les valeurs NaN par 0 \n",
    "df_joined_final['genre'] = df_joined_final['genre'].fillna(0)\n",
    "\n",
    "# Convertir la colonne 'date' en type datetime\n",
    "df_joined_final['date'] = pd.to_datetime(df_joined_final['date'])\n",
    "\n",
    "# Extraire l'année de la colonne 'date'\n",
    "df_joined_final['year'] = df_joined_final['date'].dt.year\n",
    "\n",
    "# Sélectionner un genre spécifique\n",
    "genre_to_study = 10.0\n",
    "df_genre = df_joined_final[df_joined_final['genre'] == genre_to_study]\n",
    "\n",
    "# Grouper par année et compter les occurrences\n",
    "yearly_counts = df_genre.groupby('year').size()\n",
    "\n",
    "# Créer le barplot\n",
    "plt.figure(figsize=(10, 6))\n",
    "yearly_counts.plot(kind='bar', color='skyblue')\n",
    "plt.xlabel('Année')\n",
    "plt.ylabel('Nombre de pièces')\n",
    "plt.title(f'Nombre de pièces du genre Feu d\\'artifice jouées par année')\n",
    "plt.show()"
   ]
  },
  {
   "cell_type": "code",
   "execution_count": 19,
   "metadata": {},
   "outputs": [
    {
     "data": {
      "image/png": "[encoded data removed]",
      "text/plain": [
       "<Figure size 1000x600 with 1 Axes>"
      ]
     },
     "metadata": {},
     "output_type": "display_data"
    }
   ],
   "source": [
    "# Charger le DataFrame à partir du fichier CSV \n",
    "df_joined_final\n",
    "\n",
    "# Remplacer les valeurs NaN par 0 \n",
    "df_joined_final['genre'] = df_joined_final['genre'].fillna(0)\n",
    "\n",
    "# Convertir la colonne 'date' en type datetime\n",
    "df_joined_final['date'] = pd.to_datetime(df_joined_final['date'])\n",
    "\n",
    "# Extraire l'année de la colonne 'date'\n",
    "df_joined_final['year'] = df_joined_final['date'].dt.year\n",
    "\n",
    "# Sélectionner un genre spécifique\n",
    "genre_to_study = 11.0\n",
    "df_genre = df_joined_final[df_joined_final['genre'] == genre_to_study]\n",
    "\n",
    "# Grouper par année et compter les occurrences\n",
    "yearly_counts = df_genre.groupby('year').size()\n",
    "\n",
    "# Créer le barplot\n",
    "plt.figure(figsize=(10, 6))\n",
    "yearly_counts.plot(kind='bar', color='skyblue')\n",
    "plt.xlabel('Année')\n",
    "plt.ylabel('Nombre de pièces')\n",
    "plt.title(f'Nombre de pièces du genre Opéra-comique jouées par année')\n",
    "plt.show()"
   ]
  },
  {
   "cell_type": "code",
   "execution_count": 20,
   "metadata": {},
   "outputs": [
    {
     "data": {
      "image/png": "[encoded data removed]",
      "text/plain": [
       "<Figure size 1000x600 with 1 Axes>"
      ]
     },
     "metadata": {},
     "output_type": "display_data"
    }
   ],
   "source": [
    "# Charger le DataFrame à partir du fichier CSV \n",
    "df_joined_final\n",
    "\n",
    "# Remplacer les valeurs NaN par 0 \n",
    "df_joined_final['genre'] = df_joined_final['genre'].fillna(0)\n",
    "\n",
    "# Convertir la colonne 'date' en type datetime\n",
    "df_joined_final['date'] = pd.to_datetime(df_joined_final['date'])\n",
    "\n",
    "# Extraire l'année de la colonne 'date'\n",
    "df_joined_final['year'] = df_joined_final['date'].dt.year\n",
    "\n",
    "# Sélectionner un genre spécifique\n",
    "genre_to_study = 12.0\n",
    "df_genre = df_joined_final[df_joined_final['genre'] == genre_to_study]\n",
    "\n",
    "# Grouper par année et compter les occurrences\n",
    "yearly_counts = df_genre.groupby('year').size()\n",
    "\n",
    "# Créer le barplot\n",
    "plt.figure(figsize=(10, 6))\n",
    "yearly_counts.plot(kind='bar', color='skyblue')\n",
    "plt.xlabel('Année')\n",
    "plt.ylabel('Nombre de pièces')\n",
    "plt.title(f'Nombre de pièces du genre Ballet pantomime jouées par année')\n",
    "plt.show()"
   ]
  },
  {
   "cell_type": "code",
   "execution_count": 21,
   "metadata": {},
   "outputs": [
    {
     "data": {
      "image/png": "[encoded data removed]",
      "text/plain": [
       "<Figure size 1000x600 with 1 Axes>"
      ]
     },
     "metadata": {},
     "output_type": "display_data"
    }
   ],
   "source": [
    "# Charger le DataFrame à partir du fichier CSV \n",
    "df_joined_final\n",
    "\n",
    "# Remplacer les valeurs NaN par 0 \n",
    "df_joined_final['genre'] = df_joined_final['genre'].fillna(0)\n",
    "\n",
    "# Convertir la colonne 'date' en type datetime\n",
    "df_joined_final['date'] = pd.to_datetime(df_joined_final['date'])\n",
    "\n",
    "# Extraire l'année de la colonne 'date'\n",
    "df_joined_final['year'] = df_joined_final['date'].dt.year\n",
    "\n",
    "# Sélectionner un genre spécifique\n",
    "genre_to_study = 13.0\n",
    "df_genre = df_joined_final[df_joined_final['genre'] == genre_to_study]\n",
    "\n",
    "# Grouper par année et compter les occurrences\n",
    "yearly_counts = df_genre.groupby('year').size()\n",
    "\n",
    "# Créer le barplot\n",
    "plt.figure(figsize=(10, 6))\n",
    "yearly_counts.plot(kind='bar', color='skyblue')\n",
    "plt.xlabel('Année')\n",
    "plt.ylabel('Nombre de pièces')\n",
    "plt.title(f'Nombre de pièces du genre Parodie jouées par année')\n",
    "plt.show()"
   ]
  },
  {
   "cell_type": "code",
   "execution_count": 22,
   "metadata": {},
   "outputs": [
    {
     "data": {
      "image/png": "[encoded data removed]",
      "text/plain": [
       "<Figure size 1400x800 with 1 Axes>"
      ]
     },
     "metadata": {},
     "output_type": "display_data"
    }
   ],
   "source": [
    "# Charger le DataFrame à partir du fichier CSV \n",
    "df_joined_final\n",
    "\n",
    "# Remplacer les valeurs NaN par 0\n",
    "df_joined_final['genre'] = df_joined_final['genre'].fillna(0)\n",
    "\n",
    "# Convertir la colonne 'date' en type datetime\n",
    "df_joined_final['date'] = pd.to_datetime(df_joined_final['date'])\n",
    "\n",
    "# Extraire l'année de la colonne 'date'\n",
    "df_joined_final['year'] = df_joined_final['date'].dt.year\n",
    "\n",
    "# Dictionnaire de mappage des genres \n",
    "genre_mapping = {\n",
    "    3.0: 'Prologue',\n",
    "    4.0: 'Ballet',\n",
    "    5.0: 'Divertissement',\n",
    "    6.0: 'Comédie',\n",
    "    7.0: 'Comédie à l\\'impromptu',\n",
    "    8.0: 'Tragi-comédie',\n",
    "    9.0: 'Tragédie',\n",
    "    10.0: 'Feu d\\'artifice',\n",
    "    11.0: 'Opéra-comique',\n",
    "    12.0: 'Ballet pantonime',\n",
    "    13.0: 'Parodie'\n",
    "}\n",
    "\n",
    "# Filtrer les genres à étudier\n",
    "genres_to_study = list(genre_mapping.keys())\n",
    "df_genre = df_joined_final[df_joined_final['genre'].isin(genres_to_study)]\n",
    "\n",
    "# Grouper par année et genre, puis compter les occurrences\n",
    "grouped = df_genre.groupby(['year', 'genre']).size().unstack(fill_value=0)\n",
    "\n",
    "# Créer le barplot côte à côte\n",
    "ax = grouped.plot(kind='bar', figsize=(14, 8), colormap='tab20')\n",
    "plt.xlabel('Année')\n",
    "plt.ylabel('Nombre de pièces')\n",
    "plt.title('Nombre de pièces jouées par année et par genre')\n",
    "plt.legend(title='Genre', labels=[genre_mapping[g] for g in grouped.columns], bbox_to_anchor=(1.05, 1), loc='upper left')\n",
    "plt.tight_layout()\n",
    "plt.show()"
   ]
  },
  {
   "cell_type": "markdown",
   "metadata": {},
   "source": [
    "## Création d'un barplot intéractif"
   ]
  },
  {
   "cell_type": "code",
   "execution_count": 23,
   "metadata": {},
   "outputs": [
    {
     "data": {
      "text/html": [
       "<div>\n",
       "<style scoped>\n",
       "    .dataframe tbody tr th:only-of-type {\n",
       "        vertical-align: middle;\n",
       "    }\n",
       "\n",
       "    .dataframe tbody tr th {\n",
       "        vertical-align: top;\n",
       "    }\n",
       "\n",
       "    .dataframe thead th {\n",
       "        text-align: right;\n",
       "    }\n",
       "</style>\n",
       "<table border=\"1\" class=\"dataframe\">\n",
       "  <thead>\n",
       "    <tr style=\"text-align: right;\">\n",
       "      <th></th>\n",
       "      <th>year</th>\n",
       "      <th>genre</th>\n",
       "    </tr>\n",
       "  </thead>\n",
       "  <tbody>\n",
       "    <tr>\n",
       "      <th>0</th>\n",
       "      <td>1761</td>\n",
       "      <td>Comédie à l'impromptu</td>\n",
       "    </tr>\n",
       "    <tr>\n",
       "      <th>1</th>\n",
       "      <td>1762</td>\n",
       "      <td>Comédie à l'impromptu</td>\n",
       "    </tr>\n",
       "    <tr>\n",
       "      <th>2</th>\n",
       "      <td>1762</td>\n",
       "      <td>Comédie à l'impromptu</td>\n",
       "    </tr>\n",
       "    <tr>\n",
       "      <th>3</th>\n",
       "      <td>1762</td>\n",
       "      <td>Comédie à l'impromptu</td>\n",
       "    </tr>\n",
       "    <tr>\n",
       "      <th>4</th>\n",
       "      <td>1762</td>\n",
       "      <td>Comédie à l'impromptu</td>\n",
       "    </tr>\n",
       "    <tr>\n",
       "      <th>...</th>\n",
       "      <td>...</td>\n",
       "      <td>...</td>\n",
       "    </tr>\n",
       "    <tr>\n",
       "      <th>14482</th>\n",
       "      <td>1729</td>\n",
       "      <td>Tragédie</td>\n",
       "    </tr>\n",
       "    <tr>\n",
       "      <th>14483</th>\n",
       "      <td>1717</td>\n",
       "      <td>Tragédie</td>\n",
       "    </tr>\n",
       "    <tr>\n",
       "      <th>14484</th>\n",
       "      <td>1717</td>\n",
       "      <td>Tragédie</td>\n",
       "    </tr>\n",
       "    <tr>\n",
       "      <th>14485</th>\n",
       "      <td>1725</td>\n",
       "      <td>Tragédie</td>\n",
       "    </tr>\n",
       "    <tr>\n",
       "      <th>14486</th>\n",
       "      <td>1725</td>\n",
       "      <td>Tragédie</td>\n",
       "    </tr>\n",
       "  </tbody>\n",
       "</table>\n",
       "<p>14487 rows × 2 columns</p>\n",
       "</div>"
      ],
      "text/plain": [
       "       year                  genre\n",
       "0      1761  Comédie à l'impromptu\n",
       "1      1762  Comédie à l'impromptu\n",
       "2      1762  Comédie à l'impromptu\n",
       "3      1762  Comédie à l'impromptu\n",
       "4      1762  Comédie à l'impromptu\n",
       "...     ...                    ...\n",
       "14482  1729               Tragédie\n",
       "14483  1717               Tragédie\n",
       "14484  1717               Tragédie\n",
       "14485  1725               Tragédie\n",
       "14486  1725               Tragédie\n",
       "\n",
       "[14487 rows x 2 columns]"
      ]
     },
     "execution_count": 23,
     "metadata": {},
     "output_type": "execute_result"
    }
   ],
   "source": [
    "#on veut faire apparaître directement les noms des genres (on veut un df où on a uniquement les années et les noms des genres)\n",
    "#on fait donc un merge avec le df genre du tout début du notebook\n",
    "df_final = df_joined_final.merge(df_genre_init, left_on=\"genre\", right_on=\"id\")\n",
    "#on enlève les colonnes superflues\n",
    "df_final = df_final.drop(columns=['date', 'genre', 'id'])\n",
    "#on renomme la colonne pour faciliter la manipulation\n",
    "df_final = df_final.rename(columns= {'description' : 'genre'})\n",
    "#on affiche\n",
    "df_final"
   ]
  },
  {
   "cell_type": "code",
   "execution_count": 24,
   "metadata": {},
   "outputs": [
    {
     "data": {
      "text/html": [
       "<div>\n",
       "<style scoped>\n",
       "    .dataframe tbody tr th:only-of-type {\n",
       "        vertical-align: middle;\n",
       "    }\n",
       "\n",
       "    .dataframe tbody tr th {\n",
       "        vertical-align: top;\n",
       "    }\n",
       "\n",
       "    .dataframe thead th {\n",
       "        text-align: right;\n",
       "    }\n",
       "</style>\n",
       "<table border=\"1\" class=\"dataframe\">\n",
       "  <thead>\n",
       "    <tr style=\"text-align: right;\">\n",
       "      <th></th>\n",
       "      <th>year</th>\n",
       "      <th>genre</th>\n",
       "      <th>amount</th>\n",
       "    </tr>\n",
       "  </thead>\n",
       "  <tbody>\n",
       "    <tr>\n",
       "      <th>0</th>\n",
       "      <td>1716</td>\n",
       "      <td>Comédie</td>\n",
       "      <td>3</td>\n",
       "    </tr>\n",
       "    <tr>\n",
       "      <th>1</th>\n",
       "      <td>1716</td>\n",
       "      <td>Comédie à l'impromptu</td>\n",
       "      <td>64</td>\n",
       "    </tr>\n",
       "    <tr>\n",
       "      <th>2</th>\n",
       "      <td>1717</td>\n",
       "      <td>Comédie</td>\n",
       "      <td>3</td>\n",
       "    </tr>\n",
       "    <tr>\n",
       "      <th>3</th>\n",
       "      <td>1717</td>\n",
       "      <td>Comédie à l'impromptu</td>\n",
       "      <td>135</td>\n",
       "    </tr>\n",
       "    <tr>\n",
       "      <th>4</th>\n",
       "      <td>1717</td>\n",
       "      <td>Tragi-comédie</td>\n",
       "      <td>20</td>\n",
       "    </tr>\n",
       "    <tr>\n",
       "      <th>...</th>\n",
       "      <td>...</td>\n",
       "      <td>...</td>\n",
       "      <td>...</td>\n",
       "    </tr>\n",
       "    <tr>\n",
       "      <th>248</th>\n",
       "      <td>1762</td>\n",
       "      <td>Divertissement</td>\n",
       "      <td>15</td>\n",
       "    </tr>\n",
       "    <tr>\n",
       "      <th>249</th>\n",
       "      <td>1762</td>\n",
       "      <td>Opéra-comique</td>\n",
       "      <td>395</td>\n",
       "    </tr>\n",
       "    <tr>\n",
       "      <th>250</th>\n",
       "      <td>1762</td>\n",
       "      <td>Parodie</td>\n",
       "      <td>31</td>\n",
       "    </tr>\n",
       "    <tr>\n",
       "      <th>251</th>\n",
       "      <td>1769</td>\n",
       "      <td>Tragi-comédie</td>\n",
       "      <td>1</td>\n",
       "    </tr>\n",
       "    <tr>\n",
       "      <th>252</th>\n",
       "      <td>1770</td>\n",
       "      <td>Comédie</td>\n",
       "      <td>1</td>\n",
       "    </tr>\n",
       "  </tbody>\n",
       "</table>\n",
       "<p>253 rows × 3 columns</p>\n",
       "</div>"
      ],
      "text/plain": [
       "     year                  genre  amount\n",
       "0    1716                Comédie       3\n",
       "1    1716  Comédie à l'impromptu      64\n",
       "2    1717                Comédie       3\n",
       "3    1717  Comédie à l'impromptu     135\n",
       "4    1717          Tragi-comédie      20\n",
       "..    ...                    ...     ...\n",
       "248  1762         Divertissement      15\n",
       "249  1762          Opéra-comique     395\n",
       "250  1762                Parodie      31\n",
       "251  1769          Tragi-comédie       1\n",
       "252  1770                Comédie       1\n",
       "\n",
       "[253 rows x 3 columns]"
      ]
     },
     "execution_count": 24,
     "metadata": {},
     "output_type": "execute_result"
    }
   ],
   "source": [
    "#on regroupe par année et par genre, et on calcule la taille de chaque groupe\n",
    "df_grouped = df_final.groupby(['year', 'genre']).size()\n",
    "#on remet les index au même niveau\n",
    "df_grouped = df_grouped.reset_index()\n",
    "#on change le nom de la colonne qui contient la taille des groupes\n",
    "df_grouped = df_grouped.rename(columns= {0 : 'amount'})\n",
    "#on affiche\n",
    "df_grouped"
   ]
  },
  {
   "cell_type": "code",
   "execution_count": 29,
   "metadata": {},
   "outputs": [
    {
     "data": {
      "application/vnd.plotly.v1+json": {
       "config": {
        "plotlyServerURL": "https://plot.ly"
       },
       "data": [
        {
         "alignmentgroup": "True",
         "hovertemplate": "genre=Comédie<br>year=%{x}<br>amount=%{y}<extra></extra>",
         "legendgroup": "Comédie",
         "marker": {
          "color": "#636efa",
          "pattern": {
           "shape": ""
          }
         },
         "name": "Comédie",
         "offsetgroup": "Comédie",
         "orientation": "v",
         "showlegend": true,
         "textposition": "auto",
         "type": "bar",
         "x": [
          1716,
          1717,
          1718,
          1719,
          1720,
          1721,
          1722,
          1723,
          1724,
          1725,
          1726,
          1727,
          1728,
          1729,
          1730,
          1731,
          1732,
          1733,
          1734,
          1735,
          1736,
          1737,
          1738,
          1739,
          1740,
          1741,
          1742,
          1743,
          1744,
          1745,
          1746,
          1752,
          1753,
          1754,
          1755,
          1756,
          1757,
          1758,
          1759,
          1760,
          1761,
          1762,
          1770
         ],
         "xaxis": "x",
         "y": [
          3,
          3,
          27,
          15,
          8,
          142,
          230,
          139,
          167,
          99,
          27,
          20,
          266,
          296,
          428,
          287,
          345,
          110,
          13,
          294,
          427,
          143,
          14,
          15,
          286,
          293,
          251,
          236,
          283,
          272,
          88,
          80,
          180,
          230,
          278,
          301,
          195,
          175,
          192,
          147,
          199,
          102,
          1
         ],
         "yaxis": "y"
        },
        {
         "alignmentgroup": "True",
         "hovertemplate": "genre=Comédie à l'impromptu<br>year=%{x}<br>amount=%{y}<extra></extra>",
         "legendgroup": "Comédie à l'impromptu",
         "marker": {
          "color": "#EF553B",
          "pattern": {
           "shape": ""
          }
         },
         "name": "Comédie à l'impromptu",
         "offsetgroup": "Comédie à l'impromptu",
         "orientation": "v",
         "showlegend": true,
         "textposition": "auto",
         "type": "bar",
         "x": [
          1716,
          1717,
          1718,
          1719,
          1720,
          1721,
          1722,
          1723,
          1724,
          1725,
          1726,
          1727,
          1728,
          1729,
          1730,
          1731,
          1732,
          1733,
          1735,
          1736,
          1737,
          1739,
          1740,
          1741,
          1742,
          1743,
          1744,
          1745,
          1746,
          1752,
          1753,
          1754,
          1755,
          1756,
          1757,
          1758,
          1759,
          1760,
          1761,
          1762
         ],
         "xaxis": "x",
         "y": [
          64,
          135,
          93,
          6,
          6,
          126,
          90,
          81,
          77,
          33,
          9,
          1,
          61,
          49,
          42,
          31,
          31,
          10,
          25,
          40,
          15,
          6,
          92,
          86,
          67,
          70,
          112,
          122,
          88,
          47,
          104,
          116,
          115,
          88,
          120,
          120,
          106,
          104,
          89,
          116
         ],
         "yaxis": "y"
        },
        {
         "alignmentgroup": "True",
         "hovertemplate": "genre=Tragi-comédie<br>year=%{x}<br>amount=%{y}<extra></extra>",
         "legendgroup": "Tragi-comédie",
         "marker": {
          "color": "#00cc96",
          "pattern": {
           "shape": ""
          }
         },
         "name": "Tragi-comédie",
         "offsetgroup": "Tragi-comédie",
         "orientation": "v",
         "showlegend": true,
         "textposition": "auto",
         "type": "bar",
         "x": [
          1717,
          1718,
          1721,
          1722,
          1723,
          1725,
          1726,
          1727,
          1728,
          1730,
          1731,
          1732,
          1733,
          1736,
          1737,
          1738,
          1740,
          1741,
          1742,
          1743,
          1744,
          1745,
          1746,
          1752,
          1753,
          1754,
          1755,
          1756,
          1757,
          1758,
          1759,
          1760,
          1761,
          1769
         ],
         "xaxis": "x",
         "y": [
          20,
          7,
          1,
          3,
          4,
          3,
          2,
          3,
          1,
          15,
          5,
          15,
          5,
          2,
          2,
          2,
          2,
          7,
          11,
          1,
          1,
          5,
          1,
          1,
          1,
          2,
          2,
          2,
          2,
          3,
          2,
          8,
          6,
          1
         ],
         "yaxis": "y"
        },
        {
         "alignmentgroup": "True",
         "hovertemplate": "genre=Tragédie<br>year=%{x}<br>amount=%{y}<extra></extra>",
         "legendgroup": "Tragédie",
         "marker": {
          "color": "#ab63fa",
          "pattern": {
           "shape": ""
          }
         },
         "name": "Tragédie",
         "offsetgroup": "Tragédie",
         "orientation": "v",
         "showlegend": true,
         "textposition": "auto",
         "type": "bar",
         "x": [
          1717,
          1725,
          1729,
          1730,
          1735,
          1752,
          1753,
          1754,
          1755,
          1756,
          1758,
          1759
         ],
         "xaxis": "x",
         "y": [
          2,
          2,
          1,
          3,
          2,
          3,
          4,
          2,
          3,
          2,
          5,
          3
         ],
         "yaxis": "y"
        },
        {
         "alignmentgroup": "True",
         "hovertemplate": "genre=Prologue<br>year=%{x}<br>amount=%{y}<extra></extra>",
         "legendgroup": "Prologue",
         "marker": {
          "color": "#FFA15A",
          "pattern": {
           "shape": ""
          }
         },
         "name": "Prologue",
         "offsetgroup": "Prologue",
         "orientation": "v",
         "showlegend": true,
         "textposition": "auto",
         "type": "bar",
         "x": [
          1718,
          1719,
          1721,
          1722,
          1723,
          1724,
          1725,
          1726,
          1727,
          1728,
          1729,
          1730,
          1731,
          1732,
          1733,
          1736,
          1738,
          1752,
          1753,
          1754,
          1755,
          1756,
          1758,
          1759
         ],
         "xaxis": "x",
         "y": [
          1,
          1,
          4,
          2,
          14,
          6,
          3,
          2,
          3,
          8,
          13,
          16,
          10,
          10,
          2,
          1,
          1,
          2,
          4,
          2,
          4,
          3,
          5,
          1
         ],
         "yaxis": "y"
        },
        {
         "alignmentgroup": "True",
         "hovertemplate": "genre=Parodie<br>year=%{x}<br>amount=%{y}<extra></extra>",
         "legendgroup": "Parodie",
         "marker": {
          "color": "#19d3f3",
          "pattern": {
           "shape": ""
          }
         },
         "name": "Parodie",
         "offsetgroup": "Parodie",
         "orientation": "v",
         "showlegend": true,
         "textposition": "auto",
         "type": "bar",
         "x": [
          1719,
          1720,
          1721,
          1722,
          1723,
          1724,
          1725,
          1726,
          1727,
          1728,
          1729,
          1730,
          1731,
          1732,
          1733,
          1734,
          1735,
          1736,
          1737,
          1738,
          1739,
          1740,
          1741,
          1742,
          1743,
          1744,
          1745,
          1746,
          1752,
          1753,
          1754,
          1755,
          1756,
          1757,
          1758,
          1759,
          1760,
          1761,
          1762
         ],
         "xaxis": "x",
         "y": [
          4,
          1,
          32,
          23,
          105,
          34,
          31,
          6,
          7,
          71,
          64,
          31,
          59,
          31,
          11,
          1,
          41,
          50,
          13,
          2,
          2,
          19,
          29,
          42,
          33,
          17,
          20,
          1,
          61,
          161,
          78,
          65,
          93,
          117,
          130,
          113,
          109,
          57,
          31
         ],
         "yaxis": "y"
        },
        {
         "alignmentgroup": "True",
         "hovertemplate": "genre=Opéra-comique<br>year=%{x}<br>amount=%{y}<extra></extra>",
         "legendgroup": "Opéra-comique",
         "marker": {
          "color": "#FF6692",
          "pattern": {
           "shape": ""
          }
         },
         "name": "Opéra-comique",
         "offsetgroup": "Opéra-comique",
         "orientation": "v",
         "showlegend": true,
         "textposition": "auto",
         "type": "bar",
         "x": [
          1723,
          1728,
          1729,
          1730,
          1731,
          1732,
          1733,
          1735,
          1736,
          1754,
          1755,
          1756,
          1757,
          1758,
          1759,
          1760,
          1761,
          1762
         ],
         "xaxis": "x",
         "y": [
          1,
          3,
          3,
          10,
          1,
          3,
          2,
          1,
          7,
          35,
          26,
          17,
          5,
          62,
          37,
          108,
          169,
          395
         ],
         "yaxis": "y"
        },
        {
         "alignmentgroup": "True",
         "hovertemplate": "genre=Ballet<br>year=%{x}<br>amount=%{y}<extra></extra>",
         "legendgroup": "Ballet",
         "marker": {
          "color": "#B6E880",
          "pattern": {
           "shape": ""
          }
         },
         "name": "Ballet",
         "offsetgroup": "Ballet",
         "orientation": "v",
         "showlegend": true,
         "textposition": "auto",
         "type": "bar",
         "x": [
          1732,
          1741,
          1752,
          1753,
          1754,
          1755,
          1756,
          1757,
          1758,
          1759,
          1760,
          1761,
          1762
         ],
         "xaxis": "x",
         "y": [
          2,
          1,
          5,
          11,
          3,
          5,
          58,
          12,
          3,
          55,
          48,
          74,
          35
         ],
         "yaxis": "y"
        },
        {
         "alignmentgroup": "True",
         "hovertemplate": "genre=Ballet pantomime<br>year=%{x}<br>amount=%{y}<extra></extra>",
         "legendgroup": "Ballet pantomime",
         "marker": {
          "color": "#FF97FF",
          "pattern": {
           "shape": ""
          }
         },
         "name": "Ballet pantomime",
         "offsetgroup": "Ballet pantomime",
         "orientation": "v",
         "showlegend": true,
         "textposition": "auto",
         "type": "bar",
         "x": [
          1734,
          1738,
          1740,
          1741,
          1742,
          1743,
          1752,
          1753,
          1754,
          1755,
          1756,
          1757,
          1758,
          1759,
          1760,
          1761,
          1762
         ],
         "xaxis": "x",
         "y": [
          2,
          2,
          14,
          14,
          1,
          1,
          25,
          35,
          112,
          162,
          118,
          123,
          22,
          47,
          76,
          45,
          129
         ],
         "yaxis": "y"
        },
        {
         "alignmentgroup": "True",
         "hovertemplate": "genre=Feux d'artifice<br>year=%{x}<br>amount=%{y}<extra></extra>",
         "legendgroup": "Feux d'artifice",
         "marker": {
          "color": "#FECB52",
          "pattern": {
           "shape": ""
          }
         },
         "name": "Feux d'artifice",
         "offsetgroup": "Feux d'artifice",
         "orientation": "v",
         "showlegend": true,
         "textposition": "auto",
         "type": "bar",
         "x": [
          1745,
          1746,
          1756,
          1757,
          1760
         ],
         "xaxis": "x",
         "y": [
          2,
          12,
          13,
          16,
          11
         ],
         "yaxis": "y"
        },
        {
         "alignmentgroup": "True",
         "hovertemplate": "genre=Divertissement<br>year=%{x}<br>amount=%{y}<extra></extra>",
         "legendgroup": "Divertissement",
         "marker": {
          "color": "#636efa",
          "pattern": {
           "shape": ""
          }
         },
         "name": "Divertissement",
         "offsetgroup": "Divertissement",
         "orientation": "v",
         "showlegend": true,
         "textposition": "auto",
         "type": "bar",
         "x": [
          1753,
          1754,
          1755,
          1758,
          1759,
          1760,
          1761,
          1762
         ],
         "xaxis": "x",
         "y": [
          3,
          9,
          2,
          1,
          15,
          4,
          66,
          15
         ],
         "yaxis": "y"
        }
       ],
       "layout": {
        "autosize": true,
        "barmode": "group",
        "legend": {
         "title": {
          "text": "genre"
         },
         "tracegroupgap": 0
        },
        "margin": {
         "t": 60
        },
        "template": {
         "data": {
          "bar": [
           {
            "error_x": {
             "color": "#2a3f5f"
            },
            "error_y": {
             "color": "#2a3f5f"
            },
            "marker": {
             "line": {
              "color": "#E5ECF6",
              "width": 0.5
             },
             "pattern": {
              "fillmode": "overlay",
              "size": 10,
              "solidity": 0.2
             }
            },
            "type": "bar"
           }
          ],
          "barpolar": [
           {
            "marker": {
             "line": {
              "color": "#E5ECF6",
              "width": 0.5
             },
             "pattern": {
              "fillmode": "overlay",
              "size": 10,
              "solidity": 0.2
             }
            },
            "type": "barpolar"
           }
          ],
          "carpet": [
           {
            "aaxis": {
             "endlinecolor": "#2a3f5f",
             "gridcolor": "white",
             "linecolor": "white",
             "minorgridcolor": "white",
             "startlinecolor": "#2a3f5f"
            },
            "baxis": {
             "endlinecolor": "#2a3f5f",
             "gridcolor": "white",
             "linecolor": "white",
             "minorgridcolor": "white",
             "startlinecolor": "#2a3f5f"
            },
            "type": "carpet"
           }
          ],
          "choropleth": [
           {
            "colorbar": {
             "outlinewidth": 0,
             "ticks": ""
            },
            "type": "choropleth"
           }
          ],
          "contour": [
           {
            "colorbar": {
             "outlinewidth": 0,
             "ticks": ""
            },
            "colorscale": [
             [
              0,
              "#0d0887"
             ],
             [
              0.1111111111111111,
              "#46039f"
             ],
             [
              0.2222222222222222,
              "#7201a8"
             ],
             [
              0.3333333333333333,
              "#9c179e"
             ],
             [
              0.4444444444444444,
              "#bd3786"
             ],
             [
              0.5555555555555556,
              "#d8576b"
             ],
             [
              0.6666666666666666,
              "#ed7953"
             ],
             [
              0.7777777777777778,
              "#fb9f3a"
             ],
             [
              0.8888888888888888,
              "#fdca26"
             ],
             [
              1,
              "#f0f921"
             ]
            ],
            "type": "contour"
           }
          ],
          "contourcarpet": [
           {
            "colorbar": {
             "outlinewidth": 0,
             "ticks": ""
            },
            "type": "contourcarpet"
           }
          ],
          "heatmap": [
           {
            "colorbar": {
             "outlinewidth": 0,
             "ticks": ""
            },
            "colorscale": [
             [
              0,
              "#0d0887"
             ],
             [
              0.1111111111111111,
              "#46039f"
             ],
             [
              0.2222222222222222,
              "#7201a8"
             ],
             [
              0.3333333333333333,
              "#9c179e"
             ],
             [
              0.4444444444444444,
              "#bd3786"
             ],
             [
              0.5555555555555556,
              "#d8576b"
             ],
             [
              0.6666666666666666,
              "#ed7953"
             ],
             [
              0.7777777777777778,
              "#fb9f3a"
             ],
             [
              0.8888888888888888,
              "#fdca26"
             ],
             [
              1,
              "#f0f921"
             ]
            ],
            "type": "heatmap"
           }
          ],
          "heatmapgl": [
           {
            "colorbar": {
             "outlinewidth": 0,
             "ticks": ""
            },
            "colorscale": [
             [
              0,
              "#0d0887"
             ],
             [
              0.1111111111111111,
              "#46039f"
             ],
             [
              0.2222222222222222,
              "#7201a8"
             ],
             [
              0.3333333333333333,
              "#9c179e"
             ],
             [
              0.4444444444444444,
              "#bd3786"
             ],
             [
              0.5555555555555556,
              "#d8576b"
             ],
             [
              0.6666666666666666,
              "#ed7953"
             ],
             [
              0.7777777777777778,
              "#fb9f3a"
             ],
             [
              0.8888888888888888,
              "#fdca26"
             ],
             [
              1,
              "#f0f921"
             ]
            ],
            "type": "heatmapgl"
           }
          ],
          "histogram": [
           {
            "marker": {
             "pattern": {
              "fillmode": "overlay",
              "size": 10,
              "solidity": 0.2
             }
            },
            "type": "histogram"
           }
          ],
          "histogram2d": [
           {
            "colorbar": {
             "outlinewidth": 0,
             "ticks": ""
            },
            "colorscale": [
             [
              0,
              "#0d0887"
             ],
             [
              0.1111111111111111,
              "#46039f"
             ],
             [
              0.2222222222222222,
              "#7201a8"
             ],
             [
              0.3333333333333333,
              "#9c179e"
             ],
             [
              0.4444444444444444,
              "#bd3786"
             ],
             [
              0.5555555555555556,
              "#d8576b"
             ],
             [
              0.6666666666666666,
              "#ed7953"
             ],
             [
              0.7777777777777778,
              "#fb9f3a"
             ],
             [
              0.8888888888888888,
              "#fdca26"
             ],
             [
              1,
              "#f0f921"
             ]
            ],
            "type": "histogram2d"
           }
          ],
          "histogram2dcontour": [
           {
            "colorbar": {
             "outlinewidth": 0,
             "ticks": ""
            },
            "colorscale": [
             [
              0,
              "#0d0887"
             ],
             [
              0.1111111111111111,
              "#46039f"
             ],
             [
              0.2222222222222222,
              "#7201a8"
             ],
             [
              0.3333333333333333,
              "#9c179e"
             ],
             [
              0.4444444444444444,
              "#bd3786"
             ],
             [
              0.5555555555555556,
              "#d8576b"
             ],
             [
              0.6666666666666666,
              "#ed7953"
             ],
             [
              0.7777777777777778,
              "#fb9f3a"
             ],
             [
              0.8888888888888888,
              "#fdca26"
             ],
             [
              1,
              "#f0f921"
             ]
            ],
            "type": "histogram2dcontour"
           }
          ],
          "mesh3d": [
           {
            "colorbar": {
             "outlinewidth": 0,
             "ticks": ""
            },
            "type": "mesh3d"
           }
          ],
          "parcoords": [
           {
            "line": {
             "colorbar": {
              "outlinewidth": 0,
              "ticks": ""
             }
            },
            "type": "parcoords"
           }
          ],
          "pie": [
           {
            "automargin": true,
            "type": "pie"
           }
          ],
          "scatter": [
           {
            "fillpattern": {
             "fillmode": "overlay",
             "size": 10,
             "solidity": 0.2
            },
            "type": "scatter"
           }
          ],
          "scatter3d": [
           {
            "line": {
             "colorbar": {
              "outlinewidth": 0,
              "ticks": ""
             }
            },
            "marker": {
             "colorbar": {
              "outlinewidth": 0,
              "ticks": ""
             }
            },
            "type": "scatter3d"
           }
          ],
          "scattercarpet": [
           {
            "marker": {
             "colorbar": {
              "outlinewidth": 0,
              "ticks": ""
             }
            },
            "type": "scattercarpet"
           }
          ],
          "scattergeo": [
           {
            "marker": {
             "colorbar": {
              "outlinewidth": 0,
              "ticks": ""
             }
            },
            "type": "scattergeo"
           }
          ],
          "scattergl": [
           {
            "marker": {
             "colorbar": {
              "outlinewidth": 0,
              "ticks": ""
             }
            },
            "type": "scattergl"
           }
          ],
          "scattermapbox": [
           {
            "marker": {
             "colorbar": {
              "outlinewidth": 0,
              "ticks": ""
             }
            },
            "type": "scattermapbox"
           }
          ],
          "scatterpolar": [
           {
            "marker": {
             "colorbar": {
              "outlinewidth": 0,
              "ticks": ""
             }
            },
            "type": "scatterpolar"
           }
          ],
          "scatterpolargl": [
           {
            "marker": {
             "colorbar": {
              "outlinewidth": 0,
              "ticks": ""
             }
            },
            "type": "scatterpolargl"
           }
          ],
          "scatterternary": [
           {
            "marker": {
             "colorbar": {
              "outlinewidth": 0,
              "ticks": ""
             }
            },
            "type": "scatterternary"
           }
          ],
          "surface": [
           {
            "colorbar": {
             "outlinewidth": 0,
             "ticks": ""
            },
            "colorscale": [
             [
              0,
              "#0d0887"
             ],
             [
              0.1111111111111111,
              "#46039f"
             ],
             [
              0.2222222222222222,
              "#7201a8"
             ],
             [
              0.3333333333333333,
              "#9c179e"
             ],
             [
              0.4444444444444444,
              "#bd3786"
             ],
             [
              0.5555555555555556,
              "#d8576b"
             ],
             [
              0.6666666666666666,
              "#ed7953"
             ],
             [
              0.7777777777777778,
              "#fb9f3a"
             ],
             [
              0.8888888888888888,
              "#fdca26"
             ],
             [
              1,
              "#f0f921"
             ]
            ],
            "type": "surface"
           }
          ],
          "table": [
           {
            "cells": {
             "fill": {
              "color": "#EBF0F8"
             },
             "line": {
              "color": "white"
             }
            },
            "header": {
             "fill": {
              "color": "#C8D4E3"
             },
             "line": {
              "color": "white"
             }
            },
            "type": "table"
           }
          ]
         },
         "layout": {
          "annotationdefaults": {
           "arrowcolor": "#2a3f5f",
           "arrowhead": 0,
           "arrowwidth": 1
          },
          "autotypenumbers": "strict",
          "coloraxis": {
           "colorbar": {
            "outlinewidth": 0,
            "ticks": ""
           }
          },
          "colorscale": {
           "diverging": [
            [
             0,
             "#8e0152"
            ],
            [
             0.1,
             "#c51b7d"
            ],
            [
             0.2,
             "#de77ae"
            ],
            [
             0.3,
             "#f1b6da"
            ],
            [
             0.4,
             "#fde0ef"
            ],
            [
             0.5,
             "#f7f7f7"
            ],
            [
             0.6,
             "#e6f5d0"
            ],
            [
             0.7,
             "#b8e186"
            ],
            [
             0.8,
             "#7fbc41"
            ],
            [
             0.9,
             "#4d9221"
            ],
            [
             1,
             "#276419"
            ]
           ],
           "sequential": [
            [
             0,
             "#0d0887"
            ],
            [
             0.1111111111111111,
             "#46039f"
            ],
            [
             0.2222222222222222,
             "#7201a8"
            ],
            [
             0.3333333333333333,
             "#9c179e"
            ],
            [
             0.4444444444444444,
             "#bd3786"
            ],
            [
             0.5555555555555556,
             "#d8576b"
            ],
            [
             0.6666666666666666,
             "#ed7953"
            ],
            [
             0.7777777777777778,
             "#fb9f3a"
            ],
            [
             0.8888888888888888,
             "#fdca26"
            ],
            [
             1,
             "#f0f921"
            ]
           ],
           "sequentialminus": [
            [
             0,
             "#0d0887"
            ],
            [
             0.1111111111111111,
             "#46039f"
            ],
            [
             0.2222222222222222,
             "#7201a8"
            ],
            [
             0.3333333333333333,
             "#9c179e"
            ],
            [
             0.4444444444444444,
             "#bd3786"
            ],
            [
             0.5555555555555556,
             "#d8576b"
            ],
            [
             0.6666666666666666,
             "#ed7953"
            ],
            [
             0.7777777777777778,
             "#fb9f3a"
            ],
            [
             0.8888888888888888,
             "#fdca26"
            ],
            [
             1,
             "#f0f921"
            ]
           ]
          },
          "colorway": [
           "#636efa",
           "#EF553B",
           "#00cc96",
           "#ab63fa",
           "#FFA15A",
           "#19d3f3",
           "#FF6692",
           "#B6E880",
           "#FF97FF",
           "#FECB52"
          ],
          "font": {
           "color": "#2a3f5f"
          },
          "geo": {
           "bgcolor": "white",
           "lakecolor": "white",
           "landcolor": "#E5ECF6",
           "showlakes": true,
           "showland": true,
           "subunitcolor": "white"
          },
          "hoverlabel": {
           "align": "left"
          },
          "hovermode": "closest",
          "mapbox": {
           "style": "light"
          },
          "paper_bgcolor": "white",
          "plot_bgcolor": "#E5ECF6",
          "polar": {
           "angularaxis": {
            "gridcolor": "white",
            "linecolor": "white",
            "ticks": ""
           },
           "bgcolor": "#E5ECF6",
           "radialaxis": {
            "gridcolor": "white",
            "linecolor": "white",
            "ticks": ""
           }
          },
          "scene": {
           "xaxis": {
            "backgroundcolor": "#E5ECF6",
            "gridcolor": "white",
            "gridwidth": 2,
            "linecolor": "white",
            "showbackground": true,
            "ticks": "",
            "zerolinecolor": "white"
           },
           "yaxis": {
            "backgroundcolor": "#E5ECF6",
            "gridcolor": "white",
            "gridwidth": 2,
            "linecolor": "white",
            "showbackground": true,
            "ticks": "",
            "zerolinecolor": "white"
           },
           "zaxis": {
            "backgroundcolor": "#E5ECF6",
            "gridcolor": "white",
            "gridwidth": 2,
            "linecolor": "white",
            "showbackground": true,
            "ticks": "",
            "zerolinecolor": "white"
           }
          },
          "shapedefaults": {
           "line": {
            "color": "#2a3f5f"
           }
          },
          "ternary": {
           "aaxis": {
            "gridcolor": "white",
            "linecolor": "white",
            "ticks": ""
           },
           "baxis": {
            "gridcolor": "white",
            "linecolor": "white",
            "ticks": ""
           },
           "bgcolor": "#E5ECF6",
           "caxis": {
            "gridcolor": "white",
            "linecolor": "white",
            "ticks": ""
           }
          },
          "title": {
           "x": 0.05
          },
          "xaxis": {
           "automargin": true,
           "gridcolor": "white",
           "linecolor": "white",
           "ticks": "",
           "title": {
            "standoff": 15
           },
           "zerolinecolor": "white",
           "zerolinewidth": 2
          },
          "yaxis": {
           "automargin": true,
           "gridcolor": "white",
           "linecolor": "white",
           "ticks": "",
           "title": {
            "standoff": 15
           },
           "zerolinecolor": "white",
           "zerolinewidth": 2
          }
         }
        },
        "xaxis": {
         "anchor": "y",
         "autorange": true,
         "domain": [
          0,
          1
         ],
         "range": [
          1715.5,
          1770.5
         ],
         "title": {
          "text": "year"
         },
         "type": "linear"
        },
        "yaxis": {
         "anchor": "x",
         "autorange": true,
         "domain": [
          0,
          1
         ],
         "range": [
          0,
          450.5263157894737
         ],
         "title": {
          "text": "amount"
         },
         "type": "linear"
        }
       }
      },
      "image/png": "[encoded data removed]",
      "text/html": [
       "<div>                            <div id=\"ac80b67b-0dad-45a7-94a5-fbf0843ef982\" class=\"plotly-graph-div\" style=\"height:525px; width:100%;\"></div>            <script type=\"text/javascript\">                require([\"plotly\"], function(Plotly) {                    window.PLOTLYENV=window.PLOTLYENV || {};                                    if (document.getElementById(\"ac80b67b-0dad-45a7-94a5-fbf0843ef982\")) {                    Plotly.newPlot(                        \"ac80b67b-0dad-45a7-94a5-fbf0843ef982\",                        [{\"alignmentgroup\":\"True\",\"hovertemplate\":\"genre=Com\\u00e9die<br>year=%{x}<br>amount=%{y}<extra></extra>\",\"legendgroup\":\"Com\\u00e9die\",\"marker\":{\"color\":\"#636efa\",\"pattern\":{\"shape\":\"\"}},\"name\":\"Com\\u00e9die\",\"offsetgroup\":\"Com\\u00e9die\",\"orientation\":\"v\",\"showlegend\":true,\"textposition\":\"auto\",\"x\":[1716,1717,1718,1719,1720,1721,1722,1723,1724,1725,1726,1727,1728,1729,1730,1731,1732,1733,1734,1735,1736,1737,1738,1739,1740,1741,1742,1743,1744,1745,1746,1752,1753,1754,1755,1756,1757,1758,1759,1760,1761,1762,1770],\"xaxis\":\"x\",\"y\":[3,3,27,15,8,142,230,139,167,99,27,20,266,296,428,287,345,110,13,294,427,143,14,15,286,293,251,236,283,272,88,80,180,230,278,301,195,175,192,147,199,102,1],\"yaxis\":\"y\",\"type\":\"bar\"},{\"alignmentgroup\":\"True\",\"hovertemplate\":\"genre=Com\\u00e9die \\u00e0 l'impromptu<br>year=%{x}<br>amount=%{y}<extra></extra>\",\"legendgroup\":\"Com\\u00e9die \\u00e0 l'impromptu\",\"marker\":{\"color\":\"#EF553B\",\"pattern\":{\"shape\":\"\"}},\"name\":\"Com\\u00e9die \\u00e0 l'impromptu\",\"offsetgroup\":\"Com\\u00e9die \\u00e0 l'impromptu\",\"orientation\":\"v\",\"showlegend\":true,\"textposition\":\"auto\",\"x\":[1716,1717,1718,1719,1720,1721,1722,1723,1724,1725,1726,1727,1728,1729,1730,1731,1732,1733,1735,1736,1737,1739,1740,1741,1742,1743,1744,1745,1746,1752,1753,1754,1755,1756,1757,1758,1759,1760,1761,1762],\"xaxis\":\"x\",\"y\":[64,135,93,6,6,126,90,81,77,33,9,1,61,49,42,31,31,10,25,40,15,6,92,86,67,70,112,122,88,47,104,116,115,88,120,120,106,104,89,116],\"yaxis\":\"y\",\"type\":\"bar\"},{\"alignmentgroup\":\"True\",\"hovertemplate\":\"genre=Tragi-com\\u00e9die<br>year=%{x}<br>amount=%{y}<extra></extra>\",\"legendgroup\":\"Tragi-com\\u00e9die\",\"marker\":{\"color\":\"#00cc96\",\"pattern\":{\"shape\":\"\"}},\"name\":\"Tragi-com\\u00e9die\",\"offsetgroup\":\"Tragi-com\\u00e9die\",\"orientation\":\"v\",\"showlegend\":true,\"textposition\":\"auto\",\"x\":[1717,1718,1721,1722,1723,1725,1726,1727,1728,1730,1731,1732,1733,1736,1737,1738,1740,1741,1742,1743,1744,1745,1746,1752,1753,1754,1755,1756,1757,1758,1759,1760,1761,1769],\"xaxis\":\"x\",\"y\":[20,7,1,3,4,3,2,3,1,15,5,15,5,2,2,2,2,7,11,1,1,5,1,1,1,2,2,2,2,3,2,8,6,1],\"yaxis\":\"y\",\"type\":\"bar\"},{\"alignmentgroup\":\"True\",\"hovertemplate\":\"genre=Trag\\u00e9die<br>year=%{x}<br>amount=%{y}<extra></extra>\",\"legendgroup\":\"Trag\\u00e9die\",\"marker\":{\"color\":\"#ab63fa\",\"pattern\":{\"shape\":\"\"}},\"name\":\"Trag\\u00e9die\",\"offsetgroup\":\"Trag\\u00e9die\",\"orientation\":\"v\",\"showlegend\":true,\"textposition\":\"auto\",\"x\":[1717,1725,1729,1730,1735,1752,1753,1754,1755,1756,1758,1759],\"xaxis\":\"x\",\"y\":[2,2,1,3,2,3,4,2,3,2,5,3],\"yaxis\":\"y\",\"type\":\"bar\"},{\"alignmentgroup\":\"True\",\"hovertemplate\":\"genre=Prologue<br>year=%{x}<br>amount=%{y}<extra></extra>\",\"legendgroup\":\"Prologue\",\"marker\":{\"color\":\"#FFA15A\",\"pattern\":{\"shape\":\"\"}},\"name\":\"Prologue\",\"offsetgroup\":\"Prologue\",\"orientation\":\"v\",\"showlegend\":true,\"textposition\":\"auto\",\"x\":[1718,1719,1721,1722,1723,1724,1725,1726,1727,1728,1729,1730,1731,1732,1733,1736,1738,1752,1753,1754,1755,1756,1758,1759],\"xaxis\":\"x\",\"y\":[1,1,4,2,14,6,3,2,3,8,13,16,10,10,2,1,1,2,4,2,4,3,5,1],\"yaxis\":\"y\",\"type\":\"bar\"},{\"alignmentgroup\":\"True\",\"hovertemplate\":\"genre=Parodie<br>year=%{x}<br>amount=%{y}<extra></extra>\",\"legendgroup\":\"Parodie\",\"marker\":{\"color\":\"#19d3f3\",\"pattern\":{\"shape\":\"\"}},\"name\":\"Parodie\",\"offsetgroup\":\"Parodie\",\"orientation\":\"v\",\"showlegend\":true,\"textposition\":\"auto\",\"x\":[1719,1720,1721,1722,1723,1724,1725,1726,1727,1728,1729,1730,1731,1732,1733,1734,1735,1736,1737,1738,1739,1740,1741,1742,1743,1744,1745,1746,1752,1753,1754,1755,1756,1757,1758,1759,1760,1761,1762],\"xaxis\":\"x\",\"y\":[4,1,32,23,105,34,31,6,7,71,64,31,59,31,11,1,41,50,13,2,2,19,29,42,33,17,20,1,61,161,78,65,93,117,130,113,109,57,31],\"yaxis\":\"y\",\"type\":\"bar\"},{\"alignmentgroup\":\"True\",\"hovertemplate\":\"genre=Op\\u00e9ra-comique<br>year=%{x}<br>amount=%{y}<extra></extra>\",\"legendgroup\":\"Op\\u00e9ra-comique\",\"marker\":{\"color\":\"#FF6692\",\"pattern\":{\"shape\":\"\"}},\"name\":\"Op\\u00e9ra-comique\",\"offsetgroup\":\"Op\\u00e9ra-comique\",\"orientation\":\"v\",\"showlegend\":true,\"textposition\":\"auto\",\"x\":[1723,1728,1729,1730,1731,1732,1733,1735,1736,1754,1755,1756,1757,1758,1759,1760,1761,1762],\"xaxis\":\"x\",\"y\":[1,3,3,10,1,3,2,1,7,35,26,17,5,62,37,108,169,395],\"yaxis\":\"y\",\"type\":\"bar\"},{\"alignmentgroup\":\"True\",\"hovertemplate\":\"genre=Ballet<br>year=%{x}<br>amount=%{y}<extra></extra>\",\"legendgroup\":\"Ballet\",\"marker\":{\"color\":\"#B6E880\",\"pattern\":{\"shape\":\"\"}},\"name\":\"Ballet\",\"offsetgroup\":\"Ballet\",\"orientation\":\"v\",\"showlegend\":true,\"textposition\":\"auto\",\"x\":[1732,1741,1752,1753,1754,1755,1756,1757,1758,1759,1760,1761,1762],\"xaxis\":\"x\",\"y\":[2,1,5,11,3,5,58,12,3,55,48,74,35],\"yaxis\":\"y\",\"type\":\"bar\"},{\"alignmentgroup\":\"True\",\"hovertemplate\":\"genre=Ballet pantomime<br>year=%{x}<br>amount=%{y}<extra></extra>\",\"legendgroup\":\"Ballet pantomime\",\"marker\":{\"color\":\"#FF97FF\",\"pattern\":{\"shape\":\"\"}},\"name\":\"Ballet pantomime\",\"offsetgroup\":\"Ballet pantomime\",\"orientation\":\"v\",\"showlegend\":true,\"textposition\":\"auto\",\"x\":[1734,1738,1740,1741,1742,1743,1752,1753,1754,1755,1756,1757,1758,1759,1760,1761,1762],\"xaxis\":\"x\",\"y\":[2,2,14,14,1,1,25,35,112,162,118,123,22,47,76,45,129],\"yaxis\":\"y\",\"type\":\"bar\"},{\"alignmentgroup\":\"True\",\"hovertemplate\":\"genre=Feux d'artifice<br>year=%{x}<br>amount=%{y}<extra></extra>\",\"legendgroup\":\"Feux d'artifice\",\"marker\":{\"color\":\"#FECB52\",\"pattern\":{\"shape\":\"\"}},\"name\":\"Feux d'artifice\",\"offsetgroup\":\"Feux d'artifice\",\"orientation\":\"v\",\"showlegend\":true,\"textposition\":\"auto\",\"x\":[1745,1746,1756,1757,1760],\"xaxis\":\"x\",\"y\":[2,12,13,16,11],\"yaxis\":\"y\",\"type\":\"bar\"},{\"alignmentgroup\":\"True\",\"hovertemplate\":\"genre=Divertissement<br>year=%{x}<br>amount=%{y}<extra></extra>\",\"legendgroup\":\"Divertissement\",\"marker\":{\"color\":\"#636efa\",\"pattern\":{\"shape\":\"\"}},\"name\":\"Divertissement\",\"offsetgroup\":\"Divertissement\",\"orientation\":\"v\",\"showlegend\":true,\"textposition\":\"auto\",\"x\":[1753,1754,1755,1758,1759,1760,1761,1762],\"xaxis\":\"x\",\"y\":[3,9,2,1,15,4,66,15],\"yaxis\":\"y\",\"type\":\"bar\"}],                        {\"template\":{\"data\":{\"histogram2dcontour\":[{\"type\":\"histogram2dcontour\",\"colorbar\":{\"outlinewidth\":0,\"ticks\":\"\"},\"colorscale\":[[0.0,\"#0d0887\"],[0.1111111111111111,\"#46039f\"],[0.2222222222222222,\"#7201a8\"],[0.3333333333333333,\"#9c179e\"],[0.4444444444444444,\"#bd3786\"],[0.5555555555555556,\"#d8576b\"],[0.6666666666666666,\"#ed7953\"],[0.7777777777777778,\"#fb9f3a\"],[0.8888888888888888,\"#fdca26\"],[1.0,\"#f0f921\"]]}],\"choropleth\":[{\"type\":\"choropleth\",\"colorbar\":{\"outlinewidth\":0,\"ticks\":\"\"}}],\"histogram2d\":[{\"type\":\"histogram2d\",\"colorbar\":{\"outlinewidth\":0,\"ticks\":\"\"},\"colorscale\":[[0.0,\"#0d0887\"],[0.1111111111111111,\"#46039f\"],[0.2222222222222222,\"#7201a8\"],[0.3333333333333333,\"#9c179e\"],[0.4444444444444444,\"#bd3786\"],[0.5555555555555556,\"#d8576b\"],[0.6666666666666666,\"#ed7953\"],[0.7777777777777778,\"#fb9f3a\"],[0.8888888888888888,\"#fdca26\"],[1.0,\"#f0f921\"]]}],\"heatmap\":[{\"type\":\"heatmap\",\"colorbar\":{\"outlinewidth\":0,\"ticks\":\"\"},\"colorscale\":[[0.0,\"#0d0887\"],[0.1111111111111111,\"#46039f\"],[0.2222222222222222,\"#7201a8\"],[0.3333333333333333,\"#9c179e\"],[0.4444444444444444,\"#bd3786\"],[0.5555555555555556,\"#d8576b\"],[0.6666666666666666,\"#ed7953\"],[0.7777777777777778,\"#fb9f3a\"],[0.8888888888888888,\"#fdca26\"],[1.0,\"#f0f921\"]]}],\"heatmapgl\":[{\"type\":\"heatmapgl\",\"colorbar\":{\"outlinewidth\":0,\"ticks\":\"\"},\"colorscale\":[[0.0,\"#0d0887\"],[0.1111111111111111,\"#46039f\"],[0.2222222222222222,\"#7201a8\"],[0.3333333333333333,\"#9c179e\"],[0.4444444444444444,\"#bd3786\"],[0.5555555555555556,\"#d8576b\"],[0.6666666666666666,\"#ed7953\"],[0.7777777777777778,\"#fb9f3a\"],[0.8888888888888888,\"#fdca26\"],[1.0,\"#f0f921\"]]}],\"contourcarpet\":[{\"type\":\"contourcarpet\",\"colorbar\":{\"outlinewidth\":0,\"ticks\":\"\"}}],\"contour\":[{\"type\":\"contour\",\"colorbar\":{\"outlinewidth\":0,\"ticks\":\"\"},\"colorscale\":[[0.0,\"#0d0887\"],[0.1111111111111111,\"#46039f\"],[0.2222222222222222,\"#7201a8\"],[0.3333333333333333,\"#9c179e\"],[0.4444444444444444,\"#bd3786\"],[0.5555555555555556,\"#d8576b\"],[0.6666666666666666,\"#ed7953\"],[0.7777777777777778,\"#fb9f3a\"],[0.8888888888888888,\"#fdca26\"],[1.0,\"#f0f921\"]]}],\"surface\":[{\"type\":\"surface\",\"colorbar\":{\"outlinewidth\":0,\"ticks\":\"\"},\"colorscale\":[[0.0,\"#0d0887\"],[0.1111111111111111,\"#46039f\"],[0.2222222222222222,\"#7201a8\"],[0.3333333333333333,\"#9c179e\"],[0.4444444444444444,\"#bd3786\"],[0.5555555555555556,\"#d8576b\"],[0.6666666666666666,\"#ed7953\"],[0.7777777777777778,\"#fb9f3a\"],[0.8888888888888888,\"#fdca26\"],[1.0,\"#f0f921\"]]}],\"mesh3d\":[{\"type\":\"mesh3d\",\"colorbar\":{\"outlinewidth\":0,\"ticks\":\"\"}}],\"scatter\":[{\"fillpattern\":{\"fillmode\":\"overlay\",\"size\":10,\"solidity\":0.2},\"type\":\"scatter\"}],\"parcoords\":[{\"type\":\"parcoords\",\"line\":{\"colorbar\":{\"outlinewidth\":0,\"ticks\":\"\"}}}],\"scatterpolargl\":[{\"type\":\"scatterpolargl\",\"marker\":{\"colorbar\":{\"outlinewidth\":0,\"ticks\":\"\"}}}],\"bar\":[{\"error_x\":{\"color\":\"#2a3f5f\"},\"error_y\":{\"color\":\"#2a3f5f\"},\"marker\":{\"line\":{\"color\":\"#E5ECF6\",\"width\":0.5},\"pattern\":{\"fillmode\":\"overlay\",\"size\":10,\"solidity\":0.2}},\"type\":\"bar\"}],\"scattergeo\":[{\"type\":\"scattergeo\",\"marker\":{\"colorbar\":{\"outlinewidth\":0,\"ticks\":\"\"}}}],\"scatterpolar\":[{\"type\":\"scatterpolar\",\"marker\":{\"colorbar\":{\"outlinewidth\":0,\"ticks\":\"\"}}}],\"histogram\":[{\"marker\":{\"pattern\":{\"fillmode\":\"overlay\",\"size\":10,\"solidity\":0.2}},\"type\":\"histogram\"}],\"scattergl\":[{\"type\":\"scattergl\",\"marker\":{\"colorbar\":{\"outlinewidth\":0,\"ticks\":\"\"}}}],\"scatter3d\":[{\"type\":\"scatter3d\",\"line\":{\"colorbar\":{\"outlinewidth\":0,\"ticks\":\"\"}},\"marker\":{\"colorbar\":{\"outlinewidth\":0,\"ticks\":\"\"}}}],\"scattermapbox\":[{\"type\":\"scattermapbox\",\"marker\":{\"colorbar\":{\"outlinewidth\":0,\"ticks\":\"\"}}}],\"scatterternary\":[{\"type\":\"scatterternary\",\"marker\":{\"colorbar\":{\"outlinewidth\":0,\"ticks\":\"\"}}}],\"scattercarpet\":[{\"type\":\"scattercarpet\",\"marker\":{\"colorbar\":{\"outlinewidth\":0,\"ticks\":\"\"}}}],\"carpet\":[{\"aaxis\":{\"endlinecolor\":\"#2a3f5f\",\"gridcolor\":\"white\",\"linecolor\":\"white\",\"minorgridcolor\":\"white\",\"startlinecolor\":\"#2a3f5f\"},\"baxis\":{\"endlinecolor\":\"#2a3f5f\",\"gridcolor\":\"white\",\"linecolor\":\"white\",\"minorgridcolor\":\"white\",\"startlinecolor\":\"#2a3f5f\"},\"type\":\"carpet\"}],\"table\":[{\"cells\":{\"fill\":{\"color\":\"#EBF0F8\"},\"line\":{\"color\":\"white\"}},\"header\":{\"fill\":{\"color\":\"#C8D4E3\"},\"line\":{\"color\":\"white\"}},\"type\":\"table\"}],\"barpolar\":[{\"marker\":{\"line\":{\"color\":\"#E5ECF6\",\"width\":0.5},\"pattern\":{\"fillmode\":\"overlay\",\"size\":10,\"solidity\":0.2}},\"type\":\"barpolar\"}],\"pie\":[{\"automargin\":true,\"type\":\"pie\"}]},\"layout\":{\"autotypenumbers\":\"strict\",\"colorway\":[\"#636efa\",\"#EF553B\",\"#00cc96\",\"#ab63fa\",\"#FFA15A\",\"#19d3f3\",\"#FF6692\",\"#B6E880\",\"#FF97FF\",\"#FECB52\"],\"font\":{\"color\":\"#2a3f5f\"},\"hovermode\":\"closest\",\"hoverlabel\":{\"align\":\"left\"},\"paper_bgcolor\":\"white\",\"plot_bgcolor\":\"#E5ECF6\",\"polar\":{\"bgcolor\":\"#E5ECF6\",\"angularaxis\":{\"gridcolor\":\"white\",\"linecolor\":\"white\",\"ticks\":\"\"},\"radialaxis\":{\"gridcolor\":\"white\",\"linecolor\":\"white\",\"ticks\":\"\"}},\"ternary\":{\"bgcolor\":\"#E5ECF6\",\"aaxis\":{\"gridcolor\":\"white\",\"linecolor\":\"white\",\"ticks\":\"\"},\"baxis\":{\"gridcolor\":\"white\",\"linecolor\":\"white\",\"ticks\":\"\"},\"caxis\":{\"gridcolor\":\"white\",\"linecolor\":\"white\",\"ticks\":\"\"}},\"coloraxis\":{\"colorbar\":{\"outlinewidth\":0,\"ticks\":\"\"}},\"colorscale\":{\"sequential\":[[0.0,\"#0d0887\"],[0.1111111111111111,\"#46039f\"],[0.2222222222222222,\"#7201a8\"],[0.3333333333333333,\"#9c179e\"],[0.4444444444444444,\"#bd3786\"],[0.5555555555555556,\"#d8576b\"],[0.6666666666666666,\"#ed7953\"],[0.7777777777777778,\"#fb9f3a\"],[0.8888888888888888,\"#fdca26\"],[1.0,\"#f0f921\"]],\"sequentialminus\":[[0.0,\"#0d0887\"],[0.1111111111111111,\"#46039f\"],[0.2222222222222222,\"#7201a8\"],[0.3333333333333333,\"#9c179e\"],[0.4444444444444444,\"#bd3786\"],[0.5555555555555556,\"#d8576b\"],[0.6666666666666666,\"#ed7953\"],[0.7777777777777778,\"#fb9f3a\"],[0.8888888888888888,\"#fdca26\"],[1.0,\"#f0f921\"]],\"diverging\":[[0,\"#8e0152\"],[0.1,\"#c51b7d\"],[0.2,\"#de77ae\"],[0.3,\"#f1b6da\"],[0.4,\"#fde0ef\"],[0.5,\"#f7f7f7\"],[0.6,\"#e6f5d0\"],[0.7,\"#b8e186\"],[0.8,\"#7fbc41\"],[0.9,\"#4d9221\"],[1,\"#276419\"]]},\"xaxis\":{\"gridcolor\":\"white\",\"linecolor\":\"white\",\"ticks\":\"\",\"title\":{\"standoff\":15},\"zerolinecolor\":\"white\",\"automargin\":true,\"zerolinewidth\":2},\"yaxis\":{\"gridcolor\":\"white\",\"linecolor\":\"white\",\"ticks\":\"\",\"title\":{\"standoff\":15},\"zerolinecolor\":\"white\",\"automargin\":true,\"zerolinewidth\":2},\"scene\":{\"xaxis\":{\"backgroundcolor\":\"#E5ECF6\",\"gridcolor\":\"white\",\"linecolor\":\"white\",\"showbackground\":true,\"ticks\":\"\",\"zerolinecolor\":\"white\",\"gridwidth\":2},\"yaxis\":{\"backgroundcolor\":\"#E5ECF6\",\"gridcolor\":\"white\",\"linecolor\":\"white\",\"showbackground\":true,\"ticks\":\"\",\"zerolinecolor\":\"white\",\"gridwidth\":2},\"zaxis\":{\"backgroundcolor\":\"#E5ECF6\",\"gridcolor\":\"white\",\"linecolor\":\"white\",\"showbackground\":true,\"ticks\":\"\",\"zerolinecolor\":\"white\",\"gridwidth\":2}},\"shapedefaults\":{\"line\":{\"color\":\"#2a3f5f\"}},\"annotationdefaults\":{\"arrowcolor\":\"#2a3f5f\",\"arrowhead\":0,\"arrowwidth\":1},\"geo\":{\"bgcolor\":\"white\",\"landcolor\":\"#E5ECF6\",\"subunitcolor\":\"white\",\"showland\":true,\"showlakes\":true,\"lakecolor\":\"white\"},\"title\":{\"x\":0.05},\"mapbox\":{\"style\":\"light\"}}},\"xaxis\":{\"anchor\":\"y\",\"domain\":[0.0,1.0],\"title\":{\"text\":\"year\"}},\"yaxis\":{\"anchor\":\"x\",\"domain\":[0.0,1.0],\"title\":{\"text\":\"amount\"}},\"legend\":{\"title\":{\"text\":\"genre\"},\"tracegroupgap\":0},\"margin\":{\"t\":60},\"barmode\":\"group\"},                        {\"responsive\": true}                    ).then(function(){\n",
       "                            \n",
       "var gd = document.getElementById('ac80b67b-0dad-45a7-94a5-fbf0843ef982');\n",
       "var x = new MutationObserver(function (mutations, observer) {{\n",
       "        var display = window.getComputedStyle(gd).display;\n",
       "        if (!display || display === 'none') {{\n",
       "            console.log([gd, 'removed!']);\n",
       "            Plotly.purge(gd);\n",
       "            observer.disconnect();\n",
       "        }}\n",
       "}});\n",
       "\n",
       "// Listen for the removal of the full notebook cells\n",
       "var notebookContainer = gd.closest('#notebook-container');\n",
       "if (notebookContainer) {{\n",
       "    x.observe(notebookContainer, {childList: true});\n",
       "}}\n",
       "\n",
       "// Listen for the clearing of the current output cell\n",
       "var outputEl = gd.closest('.output');\n",
       "if (outputEl) {{\n",
       "    x.observe(outputEl, {childList: true});\n",
       "}}\n",
       "\n",
       "                        })                };                });            </script>        </div>"
      ]
     },
     "metadata": {},
     "output_type": "display_data"
    }
   ],
   "source": [
    "#on importe les librairies pour les graphiques intéractifs\n",
    "import seaborn as sns\n",
    "import plotly.express as px\n",
    "\n",
    "#on génère un barplot\n",
    "#on utilise color=\"genre\" pour dire qu'on veut distinguer selon les genre en donnant une couleur différente à chaque valeur\n",
    "#on utilise barmode=\"group\" pour regrouper le long de l'axe x\n",
    "fig = px.bar(df_grouped, x='year', y='amount', color=\"genre\", barmode=\"group\")\n",
    "#on affiche\n",
    "fig.show()"
   ]
  }
 ],
 "metadata": {
  "kernelspec": {
   "display_name": "Python 3 (ipykernel)",
   "language": "python",
   "name": "python3"
  },
  "language_info": {
   "codemirror_mode": {
    "name": "ipython",
    "version": 3
   },
   "file_extension": ".py",
   "mimetype": "text/x-python",
   "name": "python",
   "nbconvert_exporter": "python",
   "pygments_lexer": "ipython3",
   "version": "3.11.7"
  }
 },
 "nbformat": 4,
 "nbformat_minor": 4
}
